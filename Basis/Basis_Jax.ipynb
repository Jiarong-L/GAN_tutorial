{
 "cells": [
  {
   "cell_type": "code",
   "execution_count": 1,
   "id": "1f3d5b43-751f-4c58-a6a1-d0fe0e46b04e",
   "metadata": {},
   "outputs": [],
   "source": [
    "import jax\n",
    "import jax.numpy as jnp\n"
   ]
  },
  {
   "cell_type": "markdown",
   "id": "0b618007-39f9-4403-b65e-5d12a91920a8",
   "metadata": {},
   "source": [
    "## Jax 基本操作\n",
    "\n",
    "```\n",
    "pip install -U jax\n",
    "pip install -U flax\n",
    "```\n",
    "\n",
    "jnp操作类似np，PyTree类似dict，不过加上了自动微分和 JIT 编译功能（不过@jit只能用于静态的func！,否则参考‘有状态计算’）\n",
    "\n",
    "与TF基本通用(Deepmind)"
   ]
  },
  {
   "cell_type": "markdown",
   "id": "5d20501a-4f51-4f7a-be8d-a337b2f64c6a",
   "metadata": {},
   "source": [
    "###  1. 求导 & 求偏导 ----- jax.grad 获取func()对应的偏导数方程\n",
    "dict数据求微分：\n",
    "```\n",
    "def fn(dictA):\n",
    "    X = dictA['X']\n",
    "\n",
    "grad(fn)(dictA)\n",
    "```\n",
    "\n",
    "https://jax.ac.cn/en/latest/automatic-differentiation.html#differentiating-with-respect-to-nested-lists-tuples-and-dicts"
   ]
  },
  {
   "cell_type": "code",
   "execution_count": 2,
   "id": "0417ac2e-2af6-49bf-b4c7-150f8b21379d",
   "metadata": {},
   "outputs": [
    {
     "data": {
      "text/plain": [
       "(31.0,\n",
       " Array(4., dtype=float32, weak_type=True),\n",
       " Array(27., dtype=float32, weak_type=True))"
      ]
     },
     "execution_count": 2,
     "metadata": {},
     "output_type": "execute_result"
    }
   ],
   "source": [
    "x = 2.0  \n",
    "y = 3.0\n",
    "\n",
    "def func(x, y):\n",
    "    return x**2 + y**3\n",
    "\n",
    "df_dx = jax.grad(func, argnums = 0)  ## 对 index=0 的参数求偏导即  d_func/d_x = 2x       Default: argnums = 0\n",
    "df_dy = jax.grad(func, argnums = 1)  ## 对 index=1 的参数求偏导即  d_func/d_y = 3yy\n",
    "\n",
    "func(x, y), df_dx(x,y) , df_dy(x,y)    ## input dtype 有要求，详见输入 2 而不是 2.0 后获得的报错"
   ]
  },
  {
   "cell_type": "code",
   "execution_count": 3,
   "id": "f2e9c6e0-8b9c-46c9-a1f8-e4eba95dbd56",
   "metadata": {},
   "outputs": [
    {
     "data": {
      "text/plain": [
       "(Array(4., dtype=float32, weak_type=True),\n",
       " Array(27., dtype=float32, weak_type=True))"
      ]
     },
     "execution_count": 3,
     "metadata": {},
     "output_type": "execute_result"
    }
   ],
   "source": [
    "jax.grad(func, argnums = (0,1))(x,y)    ## 同时获得多个参数的偏导: argnums = (0,1,...)"
   ]
  },
  {
   "cell_type": "code",
   "execution_count": 4,
   "id": "d576e686-60aa-425d-be98-a8ce79260401",
   "metadata": {},
   "outputs": [
    {
     "data": {
      "text/plain": [
       "(Array(31., dtype=float32, weak_type=True),\n",
       " (Array(4., dtype=float32, weak_type=True),\n",
       "  Array(27., dtype=float32, weak_type=True)))"
      ]
     },
     "execution_count": 4,
     "metadata": {},
     "output_type": "execute_result"
    }
   ],
   "source": [
    "jax.value_and_grad(func, argnums = (0,1))(x,y)     ## 同时获得 value_and_grad"
   ]
  },
  {
   "cell_type": "markdown",
   "id": "adec679d-2e6d-4ab8-9cd6-d968365f082b",
   "metadata": {},
   "source": [
    "### 2. 批量输入 ----- jax.vmap 向量化\n",
    "多设备并行：pmap"
   ]
  },
  {
   "cell_type": "code",
   "execution_count": 5,
   "id": "383b24eb-93b9-4712-9fe1-7c37a599fd9b",
   "metadata": {},
   "outputs": [
    {
     "data": {
      "text/plain": [
       "Array([31., 31., 31., 31., 31.], dtype=float32)"
      ]
     },
     "execution_count": 5,
     "metadata": {},
     "output_type": "execute_result"
    }
   ],
   "source": [
    "x = 2.0\n",
    "y = jnp.array([3.0] * 5)\n",
    "\n",
    "def func(x, y):\n",
    "    return x**2 + y**3\n",
    "\n",
    "vfunc = jax.vmap(func, in_axes=(None,0))           ## Default: 对输入的axes=0进行向量化处理；  如果输入为标量设置None\n",
    "\n",
    "vfunc(x,y)"
   ]
  },
  {
   "cell_type": "code",
   "execution_count": 6,
   "id": "6eefcc4b-0451-4456-8dac-d642b401d70f",
   "metadata": {},
   "outputs": [
    {
     "data": {
      "text/plain": [
       "(Array([4., 4., 4., 4., 4.], dtype=float32, weak_type=True),\n",
       " Array([27., 27., 27., 27., 27.], dtype=float32))"
      ]
     },
     "execution_count": 6,
     "metadata": {},
     "output_type": "execute_result"
    }
   ],
   "source": [
    "## 批量获得 Grad:   不能直接 jax.grad(vfunc, argnums = (0,1))(x,y) 因为 Gradient only defined for scalar-output functions\n",
    "\n",
    "x = 2.0\n",
    "y = jnp.array([3.0] * 5)\n",
    "\n",
    "@jax.jit\n",
    "def func(x, y):\n",
    "    return x**2 + y**3\n",
    "\n",
    "grad_f = jax.grad(func, argnums = (0,1))\n",
    "vgrad_f = jax.vmap(grad_f, in_axes=(None,0))\n",
    "\n",
    "vgrad_f(x,y)"
   ]
  },
  {
   "cell_type": "markdown",
   "id": "acba67ea-2782-41c4-a2d6-f629e82c2c19",
   "metadata": {},
   "source": [
    "### 3. 获取伪随机数 --- 重用key会导致相同的输出，因此是pseudo\n",
    "https://jax.ac.cn/en/latest/key-concepts.html#pseudorandom-numbers"
   ]
  },
  {
   "cell_type": "code",
   "execution_count": 7,
   "id": "2dc16bb8-d9ee-4d1d-a365-7974d1e6e154",
   "metadata": {},
   "outputs": [
    {
     "name": "stdout",
     "output_type": "stream",
     "text": [
      "1.1188384\n",
      "1.1188384\n"
     ]
    }
   ],
   "source": [
    "key = jax.random.PRNGKey(0)\n",
    "subkeyA, subkeyB, subkeyC = jax.random.split(key, 3)   ##  split PRNG table  --- 确定性的函数，见下方cell\n",
    "\n",
    "for i in range(2):                                     ## 重用 key 会导致相同的输出!!!! \n",
    "    print(jax.random.normal(subkeyA))"
   ]
  },
  {
   "cell_type": "code",
   "execution_count": 8,
   "id": "698e21f9-72b8-4265-b0f7-6d388a979e39",
   "metadata": {},
   "outputs": [
    {
     "name": "stdout",
     "output_type": "stream",
     "text": [
      "[[2467461003  428148500]\n",
      " [3186719485 3840466878]\n",
      " [2562233961 1946702221]]\n",
      "[[2467461003  428148500]\n",
      " [3186719485 3840466878]\n",
      " [2562233961 1946702221]]\n"
     ]
    }
   ],
   "source": [
    "for i in range(2):                                     ## 重用 key 会导致相同的输出!!!! \n",
    "    print(  jax.random.split(key, 3)  )"
   ]
  },
  {
   "cell_type": "code",
   "execution_count": 9,
   "id": "3fb5d121-25d3-4f2d-bc79-b514b04d3b2a",
   "metadata": {},
   "outputs": [
    {
     "name": "stdout",
     "output_type": "stream",
     "text": [
      "Test 1 ----------\n",
      "-1.2515389\n",
      "-0.58665055\n",
      "0.48648307\n",
      "Test 2 ----------\n",
      "-1.2515389\n",
      "-0.58665055\n",
      "0.48648307\n"
     ]
    }
   ],
   "source": [
    "## 正确用法------- del old_key 后再重新 jax.random.split 获取 key\n",
    "\n",
    "def get_pseudo_random(old_key):\n",
    "    new_key, subkey = jax.random.split(old_key)\n",
    "    val = jax.random.normal(subkey)\n",
    "    return new_key, val\n",
    "\n",
    "print('Test 1 ----------')\n",
    "key = jax.random.PRNGKey(0)\n",
    "for i in range(3):\n",
    "    key, val = get_pseudo_random(key)\n",
    "    print(val)\n",
    "\n",
    "\n",
    "print('Test 2 ----------')                    ## 2次Test一模一样本质就是load随机数table，因此说是pseudo\n",
    "key = jax.random.PRNGKey(0)\n",
    "for i in range(3):\n",
    "    key, val = get_pseudo_random(key)\n",
    "    print(val)"
   ]
  },
  {
   "cell_type": "markdown",
   "id": "21cf9463-4ad6-4a46-b2d9-2c19f1074f48",
   "metadata": {},
   "source": [
    "### 4. 设备控制\n",
    "https://jax.ac.cn/en/latest/sharded-computation.html#sharded-computation\n",
    "\n",
    "**TODO：并行编程入门**  https://jax.ac.cn/en/latest/sharded-computation.html"
   ]
  },
  {
   "cell_type": "code",
   "execution_count": 10,
   "id": "2d5db42e-013a-47b3-b656-da0bf33b369a",
   "metadata": {},
   "outputs": [
    {
     "data": {
      "text/plain": [
       "CpuDevice(id=0)"
      ]
     },
     "execution_count": 10,
     "metadata": {},
     "output_type": "execute_result"
    }
   ],
   "source": [
    "device = jax.devices()[0]  ## or 'cpu' 'gpu'\n",
    "device"
   ]
  },
  {
   "cell_type": "code",
   "execution_count": 11,
   "id": "aeeb94a8-26e6-4f0f-9947-183550524cf6",
   "metadata": {},
   "outputs": [],
   "source": [
    "x = jnp.array([3.0] * 5)\n",
    "x_on_device = jax.device_put(x, device=device)   ## maybe put/get from a gpu\n",
    "x_get_from_d = jax.device_get(x_on_device)"
   ]
  },
  {
   "cell_type": "code",
   "execution_count": 12,
   "id": "d805515a-e505-49b3-8247-436e9d4490e6",
   "metadata": {},
   "outputs": [
    {
     "data": {
      "text/plain": [
       "({CpuDevice(id=0)},\n",
       " SingleDeviceSharding(device=CpuDevice(id=0), memory_kind=unpinned_host))"
      ]
     },
     "execution_count": 12,
     "metadata": {},
     "output_type": "execute_result"
    }
   ],
   "source": [
    "x.devices(), x.sharding"
   ]
  },
  {
   "cell_type": "code",
   "execution_count": 13,
   "id": "22bb35ec-7f2e-47a2-b69e-59bc348be675",
   "metadata": {},
   "outputs": [],
   "source": [
    "with jax.default_device(device):\n",
    "    pass                               ## action/data happen on that device"
   ]
  },
  {
   "cell_type": "markdown",
   "id": "4da3a879-adc6-4340-b03c-9edc41ceda2c",
   "metadata": {},
   "source": [
    "### 5. 仅当函数静态时可func用@Jit or jit(f, static_argnames='x')\n",
    "不能使用的情况：计算依赖了input的dim，使用/更新全局参数（例如，optimizor就不可以加@jit）\n",
    "\n",
    "此时可用 **lax**.cond/scan/fori_loop/...，关于什么情况下可微分：https://jax.ac.cn/en/latest/control-flow.html\n"
   ]
  },
  {
   "cell_type": "code",
   "execution_count": 14,
   "id": "070c740b-e5f9-4d3a-9d6b-558cf3baaf2e",
   "metadata": {},
   "outputs": [
    {
     "data": {
      "text/plain": [
       "(Array(10, dtype=int32),\n",
       " (Array([1, 2, 3, 4], dtype=int32), Array([ 1,  3,  6, 10], dtype=int32)))"
      ]
     },
     "execution_count": 14,
     "metadata": {},
     "output_type": "execute_result"
    }
   ],
   "source": [
    "def func(carry, x):\n",
    "    carry = carry + x\n",
    "    return carry, (x, carry) \n",
    "\n",
    "final_carry, (x_history, carry_history) = jax.lax.scan(func, 0, jnp.array([1,2,3,4]))   ## input of func:  carry=0, x = [..]\n",
    "final_carry, (x_history, carry_history)"
   ]
  },
  {
   "cell_type": "code",
   "execution_count": 15,
   "id": "9f6e7558-a558-4e4c-a9cb-9663eb186628",
   "metadata": {},
   "outputs": [
    {
     "name": "stdout",
     "output_type": "stream",
     "text": [
      "\n"
     ]
    },
    {
     "data": {
      "text/plain": [
       "(Array(1, dtype=int32, weak_type=True),\n",
       " None,\n",
       " Array(-1, dtype=int32, weak_type=True))"
      ]
     },
     "execution_count": 15,
     "metadata": {},
     "output_type": "execute_result"
    }
   ],
   "source": [
    "def func(x):\n",
    "    return jax.lax.cond(x>0, lambda x: 1,  lambda x: -1, x)\n",
    "\n",
    "func(9),print(), func(-9)"
   ]
  },
  {
   "cell_type": "markdown",
   "id": "07e5894d-ac27-47ca-86f4-2d9feb03255a",
   "metadata": {},
   "source": [
    "### 6. 其它\n",
    "1. 当使用 jax.jit() 转换函数时，print() 函数只会打印抽象追踪器值, 需使用jax.debug.print(x) 打印实际的运行时值\n",
    "2. 可用 jax.debug.breakpoint() 假如断点\n",
    "3. jax.jacfwd/jacrev [计算Jacobian/Hessian矩阵](https://jax.ac.cn/en/latest/advanced-autodiff.html#jacobians-and-hessians-using-jax-jacfwd-and-jax-jacrev)"
   ]
  },
  {
   "cell_type": "code",
   "execution_count": null,
   "id": "6bfd02bd-0e44-4e54-b67a-9d6fef0be58d",
   "metadata": {},
   "outputs": [],
   "source": []
  },
  {
   "cell_type": "code",
   "execution_count": null,
   "id": "291b79e0-44cb-4a9b-8ab0-27fc5cadfa62",
   "metadata": {},
   "outputs": [],
   "source": []
  }
 ],
 "metadata": {
  "kernelspec": {
   "display_name": "Python 3 (ipykernel)",
   "language": "python",
   "name": "python3"
  },
  "language_info": {
   "codemirror_mode": {
    "name": "ipython",
    "version": 3
   },
   "file_extension": ".py",
   "mimetype": "text/x-python",
   "name": "python",
   "nbconvert_exporter": "python",
   "pygments_lexer": "ipython3",
   "version": "3.12.1"
  }
 },
 "nbformat": 4,
 "nbformat_minor": 5
}
