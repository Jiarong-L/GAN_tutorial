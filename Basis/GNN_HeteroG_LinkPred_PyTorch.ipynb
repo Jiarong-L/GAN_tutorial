{
 "cells": [
  {
   "cell_type": "code",
   "execution_count": 1,
   "id": "66ae76e9-9bb0-4b19-ae73-204f90a78341",
   "metadata": {},
   "outputs": [
    {
     "name": "stdout",
     "output_type": "stream",
     "text": [
      "Using cpu device\n"
     ]
    }
   ],
   "source": [
    "import torch\n",
    "import torch.nn as nn\n",
    "import torch.nn.functional as F\n",
    "import torch_geometric\n",
    "import torch_geometric.nn as gnn\n",
    "\n",
    "import matplotlib.pyplot as plt\n",
    "import seaborn as sns\n",
    "import numpy as np\n",
    "import pandas as pd\n",
    "import random\n",
    "\n",
    "device = (\n",
    "    \"cuda\"\n",
    "    if torch.cuda.is_available()\n",
    "    else \"mps\"\n",
    "    if torch.backends.mps.is_available()\n",
    "    else \"cpu\"\n",
    ")\n",
    "print(f\"Using {device} device\")"
   ]
  },
  {
   "cell_type": "code",
   "execution_count": null,
   "id": "1802c677-800e-46f2-a378-a7e3a8a8c10b",
   "metadata": {},
   "outputs": [],
   "source": []
  },
  {
   "cell_type": "markdown",
   "id": "bdb89510-b1ff-4ce1-a12b-3fdd57f56e45",
   "metadata": {},
   "source": [
    "### Edge Level\n",
    "\n",
    "* What score will a user rank for a movie, even though current he/she haven't seen that yet? \n",
    "    - can be viewed as Predict possible new edges and edge values\n",
    "    - Using MovieLens Dataset\n",
    "\n",
    "```\n",
    "wget https://files.grouplens.org/datasets/movielens/ml-1m.zip\n",
    "unzip ml-1m.zip\n",
    "```\n",
    "\n",
    "更清晰的GNN学习代码：\n",
    "```\n",
    "https://github.com/zhulei227/GNN_Notes\n",
    "https://www.less-bug.com/posts/gcn-basis-graphconv-gatconv-sageconv-implementation-pyg-dgl/\n",
    "```\n",
    "\n",
    "benchmark 数据集: https://ogb.stanford.edu/"
   ]
  },
  {
   "cell_type": "code",
   "execution_count": 2,
   "id": "a0ba2c59-ff43-4428-98c3-2afb10cde8fc",
   "metadata": {},
   "outputs": [],
   "source": [
    "users_df = pd.read_csv('ml-1m/users.dat',\n",
    "                      sep='::',\n",
    "                      header=None,\n",
    "                      names=['user_id', 'gender', 'age', 'occupation', 'zip'],\n",
    "                      engine='python')\n",
    "\n",
    "movies_df = pd.read_csv('ml-1m/movies.dat',\n",
    "                        sep='::',\n",
    "                        header=None,\n",
    "                        names=['movie_id', 'title', 'genres'],\n",
    "                        engine='python',\n",
    "                        encoding='ISO-8859-1')\n",
    "\n",
    "ratings_df = pd.read_csv('ml-1m/ratings.dat',    ## rates as edge label\n",
    "                         sep='::',\n",
    "                         header=None,\n",
    "                         names=['user_id', 'movie_id', 'imdbRank', 'timestamp'],\n",
    "                         engine='python')\n",
    "\n",
    "def one_hot(vocab,input_lst):\n",
    "    vec = np.zeros((len(vocab),))\n",
    "    for i in input_lst:\n",
    "        vec[vocab.index(i)] = 1\n",
    "    return vec\n",
    "\n",
    "\n",
    "movies_vocab = list(set('|'.join(movies_df['genres'].values).split('|')))\n",
    "movies_df['vec'] = movies_df['genres'].apply(lambda x: one_hot(movies_vocab,x.split('|')))\n",
    "\n",
    "users_vocab = users_df['occupation'].unique().tolist()\n",
    "users_df['vec'] = users_df.apply(lambda x:  np.concatenate((  np.array([1 if x['gender']=='F' else 0]),  one_hot(users_vocab,[x['occupation']])   )), axis=1)\n",
    "\n",
    "ratings_vocab = ratings_df['imdbRank'].unique().tolist()\n",
    "ratings_df['vec'] = ratings_df['imdbRank'].apply(lambda x: one_hot(ratings_vocab,[x]))\n",
    "\n",
    "\n",
    "movie_dict = dict(zip(movies_df['movie_id'].to_list(),[i for i in range(len(movies_df['movie_id']))]))\n",
    "user_dict = dict(zip(users_df['user_id'].to_list(),[i for i in range(len(users_df['user_id']))]))\n",
    "from_ = torch.tensor(ratings_df['user_id'].apply(lambda x: user_dict[x]).to_numpy(),dtype=torch.int64)\n",
    "to_ = torch.tensor(ratings_df['movie_id'].apply(lambda x: movie_dict[x]).to_numpy(),dtype=torch.int64)\n",
    "\n",
    "\n",
    "\n",
    "def series_to_tensor(Series,dtype=torch.float32):\n",
    "    return torch.tensor(np.array(Series.apply(lambda x: torch.tensor(x)).to_list()),dtype=dtype)"
   ]
  },
  {
   "cell_type": "code",
   "execution_count": null,
   "id": "805e9276-0df8-4c7b-bbde-807c22f9c5fa",
   "metadata": {},
   "outputs": [],
   "source": []
  },
  {
   "cell_type": "markdown",
   "id": "826dcd2d-7154-4d11-8b0c-d787b7b1e057",
   "metadata": {},
   "source": [
    "### Load as HeteroData\n",
    "\n",
    "* User nodes and Movie nodes are of different types\n",
    "\n",
    "* Add negative samples: \n",
    "```\n",
    "NodeA ----1---->NodeB   samples\n",
    "NodeA ----0---->NodeC   negative samples\n",
    "```\n",
    "\n",
    "* RandomLinkSplit()向每个分割数据添加两个新属性给 `disjoint_train_ratio` edges\n",
    "    - edge_label_index 是分割后的 edge_index\n",
    "    - edge_label 对于相应的edge_label_index都是默认为1 (本例中我们没有在这一步生成0标签edge--即negative samples) 大概起到mask的作用，需要手动设置回自定义的label\n",
    " \n",
    "\n",
    "The distinction between message passing edges and supervision edges happens in train_data.**edge_index (message passing)** and train_data.**edge_label_index (supervision)**."
   ]
  },
  {
   "cell_type": "code",
   "execution_count": 3,
   "id": "d694ec85-c5c7-471b-8bda-43828759f008",
   "metadata": {},
   "outputs": [
    {
     "data": {
      "text/plain": [
       "(HeteroData(\n",
       "   user={\n",
       "     node_id=[6040],\n",
       "     x=[6040, 22],\n",
       "   },\n",
       "   movie={\n",
       "     node_id=[3883],\n",
       "     x=[3883, 18],\n",
       "   },\n",
       "   (user, to, movie)={\n",
       "     edge_index=[2, 1000209],\n",
       "     edge_attr=[1000209],\n",
       "   },\n",
       "   (movie, rev_to, user)={\n",
       "     edge_index=[2, 1000209],\n",
       "     edge_attr=[1000209],\n",
       "   }\n",
       " ),\n",
       " [('user', 'to', 'movie'), ('movie', 'rev_to', 'user')])"
      ]
     },
     "execution_count": 3,
     "metadata": {},
     "output_type": "execute_result"
    }
   ],
   "source": [
    "from torch_geometric.data import HeteroData \n",
    "import torch_geometric.transforms as T\n",
    "from torch_geometric.transforms import RandomLinkSplit, ToUndirected\n",
    "from torch_geometric.loader import LinkNeighborLoader\n",
    "from torch_geometric.utils import negative_sampling\n",
    "\n",
    "data = HeteroData()\n",
    "\n",
    "data[\"user\"].node_id = torch.arange(users_df.shape[0]) #data['user'].num_nodes = users_df.shape[0]\n",
    "data['user'].x = series_to_tensor(users_df['vec'])\n",
    "data[\"movie\"].node_id = torch.arange(movies_df.shape[0]) \n",
    "data['movie'].x = series_to_tensor(movies_df['vec'])\n",
    "\n",
    "data['user','to','movie'].edge_index = torch.stack([from_,to_], dim=0)#torch.tensor(np.array([from_,to_]))\n",
    "data['user','to','movie'].edge_attr = series_to_tensor(ratings_df['imdbRank'], dtype=torch.int64)  ##vec\n",
    "data = T.ToUndirected()(data)\n",
    "\n",
    "data , data.edge_types"
   ]
  },
  {
   "cell_type": "code",
   "execution_count": 4,
   "id": "02da5034-7236-449b-a203-41d7aa86480c",
   "metadata": {},
   "outputs": [
    {
     "data": {
      "text/plain": [
       "(HeteroData(\n",
       "   user={\n",
       "     node_id=[6040],\n",
       "     x=[6040, 22],\n",
       "   },\n",
       "   movie={\n",
       "     node_id=[3883],\n",
       "     x=[3883, 18],\n",
       "   },\n",
       "   (user, to, movie)={\n",
       "     edge_index=[2, 280060],\n",
       "     edge_attr=[280060],\n",
       "     edge_label=[120025],\n",
       "     edge_label_index=[2, 120025],\n",
       "   },\n",
       "   (movie, rev_to, user)={\n",
       "     edge_index=[2, 280060],\n",
       "     edge_attr=[280060],\n",
       "   }\n",
       " ),\n",
       " tensor([1., 1., 1.,  ..., 1., 1., 1.]))"
      ]
     },
     "execution_count": 4,
     "metadata": {},
     "output_type": "execute_result"
    }
   ],
   "source": [
    "'''\n",
    "随机选取edge后，\n",
    "disjoint_train_ratio: 设定此数值，则将被选取的edges拆分为两部分，一部分负责message passing，另一部分负责supervision\n",
    "     disjoint_train_ratio指负责supervision的比例\n",
    "'''\n",
    "\n",
    "split = RandomLinkSplit(\n",
    "    num_val = 0.3,\n",
    "    num_test = 0.3,\n",
    "    disjoint_train_ratio = 0.3,    \n",
    "    add_negative_train_samples = False,    # neg_sampling_ratio = 1,\n",
    "    edge_types = ('user', 'to', 'movie'),\n",
    "    rev_edge_types = ('movie', 'rev_to', 'user')\n",
    ")\n",
    "\n",
    "train_data, val_data, test_data = split(data) \n",
    "\n",
    "train_data, train_data['user','to','movie'].edge_label"
   ]
  },
  {
   "cell_type": "code",
   "execution_count": 5,
   "id": "e15fb494-687e-4f9e-b651-2784efefb8c4",
   "metadata": {},
   "outputs": [],
   "source": [
    "def idx_to_dict(idx):\n",
    "    return {'{}_{}'.format(idx[0,i],idx[1,i]):i for i in range(idx.size()[1])}\n",
    "\n",
    "full_idx = data['user','to','movie'].edge_index\n",
    "msg_idx = train_data['user','to','movie'].edge_index\n",
    "sup_idx = train_data['user','to','movie'].edge_label_index\n",
    "\n",
    "full_dict = idx_to_dict(full_idx)\n",
    "full_pairs = full_dict.keys()\n",
    "msg_pairs = idx_to_dict(msg_idx).keys()\n",
    "sup_pairs = idx_to_dict(sup_idx).keys()                                  \n",
    "\n",
    "assert set(msg_pairs) &  set(sup_pairs)  == set()                       ## check Intersection: Currently we don't have 0 edges (not in original edges)\n",
    "assert len(set(full_pairs) &  set(sup_pairs))  == len(set(sup_pairs))   ##  sup, msg edges can all be found in the original edges\n",
    "assert len(set(full_pairs) &  set(msg_pairs))  == len(set(msg_pairs))   ##  sup, msg edges have no Intersection"
   ]
  },
  {
   "cell_type": "code",
   "execution_count": 6,
   "id": "f49e8d2a-badd-4d5c-a720-753b017bde7f",
   "metadata": {},
   "outputs": [
    {
     "data": {
      "text/plain": [
       "(HeteroData(\n",
       "   user={\n",
       "     node_id=[6040],\n",
       "     x=[6040, 22],\n",
       "   },\n",
       "   movie={\n",
       "     node_id=[3883],\n",
       "     x=[3883, 18],\n",
       "   },\n",
       "   (user, to, movie)={\n",
       "     edge_index=[2, 280060],\n",
       "     edge_attr=[280060],\n",
       "     edge_label=[120025],\n",
       "     edge_label_index=[2, 120025],\n",
       "   },\n",
       "   (movie, rev_to, user)={\n",
       "     edge_index=[2, 280060],\n",
       "     edge_attr=[280060],\n",
       "   }\n",
       " ),\n",
       " tensor([5, 4, 5,  ..., 4, 3, 4]))"
      ]
     },
     "execution_count": 6,
     "metadata": {},
     "output_type": "execute_result"
    }
   ],
   "source": [
    "## set edge_label as edge_attr (mention: currently no neg samples)\n",
    "\n",
    "ori_label_pos = [full_dict[p] for p in sup_pairs]\n",
    "\n",
    "train_data['user','to','movie'].edge_label = data['user','to','movie'].edge_attr[ori_label_pos]\n",
    "train_data, train_data['user','to','movie'].edge_label"
   ]
  },
  {
   "cell_type": "code",
   "execution_count": 7,
   "id": "7ef6a822-47d8-4706-9d36-1af50755cf97",
   "metadata": {},
   "outputs": [
    {
     "data": {
      "text/plain": [
       "(HeteroData(\n",
       "   user={\n",
       "     node_id=[5576],\n",
       "     x=[5576, 22],\n",
       "     n_id=[5576],\n",
       "   },\n",
       "   movie={\n",
       "     node_id=[3378],\n",
       "     x=[3378, 18],\n",
       "     n_id=[3378],\n",
       "   },\n",
       "   (user, to, movie)={\n",
       "     edge_index=[2, 48333],\n",
       "     edge_attr=[48333],\n",
       "     edge_label=[6000],\n",
       "     edge_label_index=[2, 6000],\n",
       "     e_id=[48333],\n",
       "     input_id=[5000],\n",
       "   },\n",
       "   (movie, rev_to, user)={\n",
       "     edge_index=[2, 78919],\n",
       "     edge_attr=[78919],\n",
       "     e_id=[78919],\n",
       "   }\n",
       " ),\n",
       " tensor([3, 5, 5,  ..., 0, 0, 0]))"
      ]
     },
     "execution_count": 7,
     "metadata": {},
     "output_type": "execute_result"
    }
   ],
   "source": [
    "edge_label_index = train_data['user','to','movie'].edge_label_index\n",
    "edge_label_withattr = train_data['user','to','movie'].edge_label\n",
    "\n",
    "train_loader = LinkNeighborLoader(\n",
    "    data = train_data,\n",
    "    num_neighbors = [20,10],                                         ## 2-hoop\n",
    "    neg_sampling_ratio = 0.2,                                       ## pos:neg = 1:0.2 (edge)    add 0 to edge_label  最好与1-5各class均等\n",
    "    edge_label_index=((\"user\", \"to\", \"movie\"), edge_label_index),\n",
    "    edge_label=edge_label_withattr,\n",
    "    batch_size = 5000,                                                   ## num of pos edge in one batch\n",
    "    shuffle = True\n",
    ")\n",
    "\n",
    "batch = next(iter(train_loader))\n",
    "\n",
    "batch, batch['user','to','movie'].edge_label"
   ]
  },
  {
   "cell_type": "code",
   "execution_count": 8,
   "id": "d40a2a59-7b5a-45f7-809c-e48c856399c1",
   "metadata": {},
   "outputs": [
    {
     "data": {
      "text/plain": [
       "{('user',\n",
       "  'to',\n",
       "  'movie'): EdgeIndex([[3175, 2564, 2419,  ..., 3163, 3884,  545],\n",
       "            [   0,    0,    0,  ..., 3327, 3327, 3327]],\n",
       "           sparse_size=(5576, 3378), nnz=48333, sort_order=col),\n",
       " ('movie',\n",
       "  'rev_to',\n",
       "  'user'): EdgeIndex([[ 329,    0, 1046,  ..., 1583, 1073, 1065],\n",
       "            [   0,    0,    0,  ..., 5490, 5490, 5490]],\n",
       "           sparse_size=(3378, 5576), nnz=78919, sort_order=col)}"
      ]
     },
     "execution_count": 8,
     "metadata": {},
     "output_type": "execute_result"
    }
   ],
   "source": [
    "batch.edge_index_dict"
   ]
  },
  {
   "cell_type": "code",
   "execution_count": 9,
   "id": "5aad9ae2-dea5-4b4f-8dff-82d80ae720ee",
   "metadata": {},
   "outputs": [
    {
     "data": {
      "text/plain": [
       "torch.Size([2, 48333])"
      ]
     },
     "execution_count": 9,
     "metadata": {},
     "output_type": "execute_result"
    }
   ],
   "source": [
    "batch.edge_index_dict['user','to','movie'].size()"
   ]
  },
  {
   "cell_type": "code",
   "execution_count": null,
   "id": "394a5dbd-3759-40e7-914c-a77b128615d2",
   "metadata": {},
   "outputs": [],
   "source": []
  },
  {
   "cell_type": "markdown",
   "id": "e9ba24a0-539e-4e70-84bd-eae656bd7fba",
   "metadata": {},
   "source": [
    "### Model\n",
    "1. find node embeddings via gcn\n",
    "2. predict link labels via aggr(userA,movieB)\n",
    "\n"
   ]
  },
  {
   "cell_type": "code",
   "execution_count": 10,
   "id": "f9138f1b-0b58-4a4e-bdfe-8b97236380a1",
   "metadata": {},
   "outputs": [],
   "source": [
    "user_x_size = data['user'].x.size()\n",
    "movie_x_size = data['movie'].x.size()\n",
    "metadata = train_data.metadata()\n",
    "\n",
    "class GNN(nn.Module):             \n",
    "    def __init__(self, c_in, c_h, c_out):\n",
    "        super().__init__()\n",
    "        self.conv1 = gnn.SAGEConv(c_in, c_h)\n",
    "        self.dropout = nn.Dropout(0.1)\n",
    "        self.conv2 = gnn.SAGEConv(c_h, c_out)\n",
    "    def forward(self, x, edge_index):\n",
    "        x = F.relu(self.conv1(x, edge_index))\n",
    "        x = self.dropout(x)\n",
    "        x = self.conv2(x, edge_index)\n",
    "        return x\n",
    "\n",
    "class Model(nn.Module):\n",
    "    def __init__(self, hidden_channels):\n",
    "        super().__init__()\n",
    "\n",
    "        # self.user_linear = nn.Linear(user_x_size[1], hidden_channels)   ##   自行one-hot效果不佳\n",
    "        # self.movie_linear = nn.Linear(movie_x_size[1], hidden_channels) ##   [0]num node     [1]ori_node_embd_size\n",
    "        self.user_emb = nn.Embedding(user_x_size[0], hidden_channels)  \n",
    "        self.movie_emb = nn.Embedding(movie_x_size[0], hidden_channels)        \n",
    "\n",
    "        self.gnn = GNN(hidden_channels,hidden_channels,hidden_channels)\n",
    "        self.gnn = gnn.to_hetero(self.gnn, metadata=metadata)     ## HeteroGNN_model = to_hetero(GNN_model, data.metadata(), aggr='sum')\n",
    "        \n",
    "        self.classifier_linear = nn.Linear(hidden_channels*2, 6)  ## rank:0-6\n",
    "        self.classifier_bn = nn.BatchNorm1d(6)\n",
    "\n",
    "    def forward(self, batch):\n",
    "        # x_dict = {\n",
    "        #   \"user\": self.user_linear(batch[\"user\"].x),\n",
    "        #   \"movie\": self.movie_linear(batch[\"movie\"].x),\n",
    "        # } \n",
    "        x_dict = {\n",
    "          \"user\": self.user_emb(batch[\"user\"].node_id),        ## 两种node输入HeteroGNN时 必须embed size一致\n",
    "          \"movie\": self.movie_emb(batch[\"movie\"].node_id),\n",
    "        } \n",
    "        x_dict = self.gnn(x_dict, batch.edge_index_dict)\n",
    "\n",
    "        [fromU_, toM_] = batch[\"user\", \"to\", \"movie\"].edge_label_index\n",
    "        userFeat = x_dict['user'][fromU_]                    ## [batch,hidden]\n",
    "        movieFeat = x_dict['movie'][toM_]                    ##\n",
    "        eFeat = torch.concat([userFeat, movieFeat],dim=-1)   ## [batch,hidden*2]\n",
    "\n",
    "        x = F.relu(eFeat)\n",
    "        x = self.classifier_linear(x)\n",
    "        x = self.classifier_bn(x)\n",
    "        x = F.softmax(x, dim=1)\n",
    "        return x\n",
    "\n",
    "\n",
    "# model = Model(hidden_channels=64)\n",
    "# model(batch).size()"
   ]
  },
  {
   "cell_type": "code",
   "execution_count": null,
   "id": "da2f9eed-5a65-40f3-b088-3bddc18d3e25",
   "metadata": {},
   "outputs": [],
   "source": []
  },
  {
   "cell_type": "code",
   "execution_count": 11,
   "id": "86ed96bf-9fcf-4d73-aa2a-d63efbb4dc1d",
   "metadata": {
    "scrolled": true
   },
   "outputs": [
    {
     "name": "stdout",
     "output_type": "stream",
     "text": [
      "Epoch:0>>>>>>>>>>>>>>>>>>>>>>>>>tmpLoss:1.6884582042694092, tmpAcc:0.4000000059604645\n",
      "Epoch:1>>>>>>>>>>>>>>>>>>>>>>>>>tmpLoss:1.7284268140792847, tmpAcc:0.23333333432674408\n",
      "Epoch:2>>>>>>>>>>>>>>>>>>>>>>>>>tmpLoss:1.6086386442184448, tmpAcc:0.46666666865348816\n",
      "Epoch:3>>>>>>>>>>>>>>>>>>>>>>>>>tmpLoss:1.576741099357605, tmpAcc:0.5\n",
      "Epoch:4>>>>>>>>>>>>>>>>>>>>>>>>>tmpLoss:1.5663833618164062, tmpAcc:0.5\n",
      "Epoch:5>>>>>>>>>>>>>>>>>>>>>>>>>tmpLoss:1.5778851509094238, tmpAcc:0.46666666865348816\n",
      "Epoch:6>>>>>>>>>>>>>>>>>>>>>>>>>tmpLoss:1.5878255367279053, tmpAcc:0.46666666865348816\n",
      "Epoch:7>>>>>>>>>>>>>>>>>>>>>>>>>tmpLoss:1.7017165422439575, tmpAcc:0.3333333432674408\n",
      "Epoch:8>>>>>>>>>>>>>>>>>>>>>>>>>tmpLoss:1.6123733520507812, tmpAcc:0.46666666865348816\n",
      "Epoch:9>>>>>>>>>>>>>>>>>>>>>>>>>tmpLoss:1.4560538530349731, tmpAcc:0.6000000238418579\n"
     ]
    }
   ],
   "source": [
    "def train_step(model, lossfn, optimizer, batch):   \n",
    "    model.train()\n",
    "    optimizer.zero_grad()\n",
    "    y = batch[\"user\", \"to\", \"movie\"].edge_label\n",
    "    pred = model(batch)       \n",
    "    loss = lossfn(pred,y)\n",
    "    loss.backward()\n",
    "    optimizer.step()\n",
    "    acc = (pred.argmax(dim=-1) == y).sum().float() / y.size()[0]\n",
    "    print('>',end='')\n",
    "    return loss.item(), acc.item()\n",
    "\n",
    "\n",
    "model = Model(hidden_channels=64).to(device)\n",
    "lossfn = nn.CrossEntropyLoss()\n",
    "optimizer = torch.optim.Adam(model.parameters(), lr=1e-2)\n",
    "\n",
    "\n",
    "for epoch in range(10):                                       ## It trapped!!!!!\n",
    "    print('Epoch:{}'.format(epoch),end='')\n",
    "    for batch in iter(train_loader):\n",
    "        tmpLoss, tmpAcc = train_step(model, lossfn, optimizer, batch.to(device))\n",
    "    print('tmpLoss:{}, tmpAcc:{}'.format(tmpLoss, tmpAcc))"
   ]
  },
  {
   "cell_type": "code",
   "execution_count": 12,
   "id": "a8f953de-f538-4143-9f2d-671fa1c356d1",
   "metadata": {},
   "outputs": [
    {
     "data": {
      "text/plain": [
       "tensor([4, 4, 3, 3, 3, 5, 3, 4, 4, 3, 5, 0, 3, 1, 5, 5, 3, 5, 5, 4, 4, 4, 4, 4,\n",
       "        4, 0, 4, 0, 0, 3])"
      ]
     },
     "execution_count": 12,
     "metadata": {},
     "output_type": "execute_result"
    }
   ],
   "source": [
    "pred = model(batch)\n",
    "\n",
    "pred.argmax(dim=-1)"
   ]
  },
  {
   "cell_type": "code",
   "execution_count": 13,
   "id": "ccce7bcc-ff6a-410c-91b5-573c19b0e57f",
   "metadata": {},
   "outputs": [
    {
     "data": {
      "text/plain": [
       "tensor([4, 4, 3, 3, 3, 2, 3, 2, 4, 3, 5, 5, 3, 1, 5, 5, 3, 3, 5, 4, 4, 5, 4, 4,\n",
       "        4, 0, 0, 0, 0, 0])"
      ]
     },
     "execution_count": 13,
     "metadata": {},
     "output_type": "execute_result"
    }
   ],
   "source": [
    "batch[\"user\", \"to\", \"movie\"].edge_label"
   ]
  },
  {
   "cell_type": "code",
   "execution_count": null,
   "id": "c2ddf2ab-6c34-4251-a8f2-e25b52ea2aaa",
   "metadata": {},
   "outputs": [],
   "source": []
  },
  {
   "cell_type": "code",
   "execution_count": null,
   "id": "2543b061-bb2c-4e76-a518-c75cc5891811",
   "metadata": {},
   "outputs": [],
   "source": []
  }
 ],
 "metadata": {
  "kernelspec": {
   "display_name": "Python 3 (ipykernel)",
   "language": "python",
   "name": "python3"
  },
  "language_info": {
   "codemirror_mode": {
    "name": "ipython",
    "version": 3
   },
   "file_extension": ".py",
   "mimetype": "text/x-python",
   "name": "python",
   "nbconvert_exporter": "python",
   "pygments_lexer": "ipython3",
   "version": "3.12.1"
  }
 },
 "nbformat": 4,
 "nbformat_minor": 5
}
