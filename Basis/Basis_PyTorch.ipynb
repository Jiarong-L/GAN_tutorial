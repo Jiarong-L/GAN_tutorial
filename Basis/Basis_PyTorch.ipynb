{
 "cells": [
  {
   "cell_type": "code",
   "execution_count": 1,
   "id": "8b3d2034-f797-44ca-af9b-29be4082e4c8",
   "metadata": {},
   "outputs": [],
   "source": [
    "import torch\n",
    "import torchvision\n",
    "from torch import nn\n",
    "\n",
    "import matplotlib.pyplot as plt\n",
    "import numpy as np"
   ]
  },
  {
   "cell_type": "code",
   "execution_count": 2,
   "id": "98d98549-1637-40c4-9d1d-a60e4d2000dc",
   "metadata": {},
   "outputs": [
    {
     "name": "stdout",
     "output_type": "stream",
     "text": [
      "Using cuda device\n"
     ]
    }
   ],
   "source": [
    "device = (\n",
    "    \"cuda\"\n",
    "    if torch.cuda.is_available()\n",
    "    else \"mps\"\n",
    "    if torch.backends.mps.is_available()\n",
    "    else \"cpu\"\n",
    ")\n",
    "print(f\"Using {device} device\")"
   ]
  },
  {
   "cell_type": "markdown",
   "id": "faca593e-044b-4cdb-82c6-1e1255740512",
   "metadata": {},
   "source": [
    "## Load Dataset"
   ]
  },
  {
   "cell_type": "code",
   "execution_count": 3,
   "id": "add83242-6b5a-4e51-9339-43c791f26357",
   "metadata": {
    "scrolled": true
   },
   "outputs": [],
   "source": [
    "## Load DataSet\n",
    "\n",
    "transform = torchvision.transforms.Compose(\n",
    "    [\n",
    "        torchvision.transforms.Resize((28,28)),\n",
    "        torchvision.transforms.ToTensor(),\n",
    "     # torchvision.transforms.Normalize((0.5,), (0.5, )),   ## mean std,  img = img / 2 + 0.5 to unnormalize\n",
    "     ])\n",
    "\n",
    "batch_size = 500\n",
    "\n",
    "trainset = torchvision.datasets.MNIST(root=r'L:\\Datasets', train=True, download=True, transform=transform)\n",
    "trainloader = torch.utils.data.DataLoader(trainset, batch_size=batch_size,shuffle=True, num_workers=2)\n",
    "\n",
    "testset = torchvision.datasets.MNIST(root=r'L:\\Datasets', train=False,download=True, transform=transform)\n",
    "testloader = torch.utils.data.DataLoader(testset, batch_size=batch_size,shuffle=False, num_workers=2)\n"
   ]
  },
  {
   "cell_type": "code",
   "execution_count": 4,
   "id": "2f882ff4-29b9-4b9c-baba-db72faa8eead",
   "metadata": {
    "scrolled": true
   },
   "outputs": [
    {
     "data": {
      "image/png": "[encoded data removed]",
      "text/plain": [
       "<Figure size 640x480 with 1 Axes>"
      ]
     },
     "metadata": {},
     "output_type": "display_data"
    },
    {
     "name": "stdout",
     "output_type": "stream",
     "text": [
      "tensor([7, 1, 0, 4, 5, 9, 8, 1, 2, 6])\n"
     ]
    }
   ],
   "source": [
    "## View Img\n",
    "images, labels = next(iter(trainloader))\n",
    "\n",
    "def showBatchImg(images):\n",
    "    img = torchvision.utils.make_grid(images)         ## B x C x H x W: [4, 1, 28, 28] ==>  (C=3) x (H+padding) x (W*B): [3, 32, 122]\n",
    "    plt.imshow(np.transpose(img.numpy(), (1, 2, 0)))  ## switch axis: [3, 32, 122] ==> (32, 122, 3) \n",
    "    plt.show()\n",
    "\n",
    "showBatchImg(images[:10])\n",
    "print(labels[:10])"
   ]
  },
  {
   "cell_type": "code",
   "execution_count": 5,
   "id": "0715b273-6a17-4d97-9196-d081469bed61",
   "metadata": {},
   "outputs": [
    {
     "data": {
      "text/plain": [
       "torch.Size([500, 1, 28, 28])"
      ]
     },
     "execution_count": 5,
     "metadata": {},
     "output_type": "execute_result"
    }
   ],
   "source": [
    "images.shape"
   ]
  },
  {
   "cell_type": "code",
   "execution_count": null,
   "id": "febde3a7-77c6-4239-a5e2-352e03c65994",
   "metadata": {},
   "outputs": [],
   "source": []
  },
  {
   "cell_type": "markdown",
   "id": "4890778e-898b-4e94-b85d-4f7e29db079f",
   "metadata": {},
   "source": [
    "## Classifier Model"
   ]
  },
  {
   "cell_type": "code",
   "execution_count": 6,
   "id": "212d765e-c46b-47a8-915c-f9b1c1c46b13",
   "metadata": {},
   "outputs": [
    {
     "name": "stdout",
     "output_type": "stream",
     "text": [
      "Classifier_Net(\n",
      "  (CovBlock): Sequential(\n",
      "    (0): Conv2d(1, 6, kernel_size=(5, 5), stride=(1, 1))\n",
      "    (1): MaxPool2d(kernel_size=(2, 2), stride=(2, 2), padding=0, dilation=1, ceil_mode=False)\n",
      "    (2): Conv2d(6, 16, kernel_size=(5, 5), stride=(1, 1))\n",
      "    (3): Flatten(start_dim=1, end_dim=-1)\n",
      "    (4): Linear(in_features=1024, out_features=128, bias=True)\n",
      "    (5): ReLU()\n",
      "    (6): Linear(in_features=128, out_features=10, bias=True)\n",
      "    (7): ReLU()\n",
      "  )\n",
      ")\n"
     ]
    }
   ],
   "source": [
    "## Classifier Model -- input: 28*28*1\n",
    "\n",
    "class Classifier_Net(nn.Module):\n",
    "    def __init__(self,classNum):       ## define structure -- 注意，如果需要2个CovBlock，不能直接复用，要定义self.CovBlock1，self.CovBlock2\n",
    "        super().__init__()\n",
    "        self.CovBlock = nn.Sequential(\n",
    "            nn.Conv2d(1,6,(5,5)),    ## 1*28*28  ==> 6*24*24 (kernel=5:28-5+1=24, stride=1: no change)  \n",
    "            nn.MaxPool2d((2,2)),     ##          ==> 6*12*12\n",
    "            nn.Conv2d(6,16,(5,5)),   ##          ==> 16*8*8    \n",
    "            nn.Flatten(),\n",
    "            nn.Linear(16*8*8,128),   ##          ==> 128             12800x8 and 1024x128\n",
    "            nn.ReLU(),\n",
    "            nn.Linear(128,classNum), ##          ==> classNum      128*10\n",
    "            nn.ReLU()\n",
    "        )\n",
    "    def forward(self, x):       ## define forward path\n",
    "        x = self.CovBlock(x) \n",
    "        # print(x.size())\n",
    "        return x\n",
    "\n",
    "model = Classifier_Net(10).to(device)\n",
    "print(model)"
   ]
  },
  {
   "cell_type": "code",
   "execution_count": 7,
   "id": "f410877a-f9fc-48d3-a4f1-aa222532ed97",
   "metadata": {},
   "outputs": [],
   "source": [
    "def train(dataloader, model, loss_fn, optimizer):\n",
    "    lossSum = 0\n",
    "    model.train()                                    ### set training mode\n",
    "    for batch, (X, y) in enumerate(dataloader):\n",
    "        X, y = X.to(device), y.to(device)   \n",
    "        # Compute prediction error\n",
    "        pred = model(X)\n",
    "        loss = loss_fn(pred, y)\n",
    "        lossSum += loss.item()\n",
    "        # Backpropagation\n",
    "        loss.backward()\n",
    "        optimizer.step()\n",
    "        optimizer.zero_grad()\n",
    "    avgTrainingLoss = lossSum/len(dataloader)\n",
    "    return avgTrainingLoss\n",
    "\n",
    "\n",
    "def test(dataloader, model, loss_fn):\n",
    "    lossSum = 0\n",
    "    correctSum = 0\n",
    "    model.eval()\n",
    "    with torch.no_grad():\n",
    "        for batch, (X, y) in enumerate(dataloader):\n",
    "            X, y = X.to(device), y.to(device)\n",
    "            pred = model(X)\n",
    "            lossSum += loss_fn(pred, y).item()\n",
    "            correctSum += (pred.argmax(1) == y).type(torch.float).sum().item()\n",
    "    avgTestingLoss = lossSum/len(dataloader)             ## /num_batches\n",
    "    avgTestingAcc  = correctSum/len(dataloader.dataset)  ## /size\n",
    "    return avgTestingLoss,avgTestingAcc"
   ]
  },
  {
   "cell_type": "code",
   "execution_count": 8,
   "id": "9e06c9a0-1425-4e53-91c2-3d800c18f118",
   "metadata": {},
   "outputs": [
    {
     "name": "stdout",
     "output_type": "stream",
     "text": [
      "Epoch 1----Testing Acc:: 0.158500\n",
      "Epoch 2----Testing Acc:: 0.189500\n",
      "Epoch 3----Testing Acc:: 0.224200\n",
      "Epoch 4----Testing Acc:: 0.254500\n",
      "Epoch 5----Testing Acc:: 0.291900\n",
      "Epoch 6----Testing Acc:: 0.353600\n",
      "Epoch 7----Testing Acc:: 0.415600\n",
      "Epoch 8----Testing Acc:: 0.442300\n",
      "Epoch 9----Testing Acc:: 0.458500\n",
      "Epoch 10----Testing Acc:: 0.466000\n",
      "Epoch 11----Testing Acc:: 0.475000\n",
      "Epoch 12----Testing Acc:: 0.481500\n",
      "Epoch 13----Testing Acc:: 0.486100\n",
      "Epoch 14----Testing Acc:: 0.491400\n",
      "Epoch 15----Testing Acc:: 0.495000\n",
      "Epoch 16----Testing Acc:: 0.502600\n",
      "Epoch 17----Testing Acc:: 0.510200\n",
      "Epoch 18----Testing Acc:: 0.519200\n",
      "Epoch 19----Testing Acc:: 0.531400\n",
      "Epoch 20----Testing Acc:: 0.544000\n",
      "Epoch 21----Testing Acc:: 0.557600\n",
      "Epoch 22----Testing Acc:: 0.569500\n",
      "Epoch 23----Testing Acc:: 0.578900\n",
      "Epoch 24----Testing Acc:: 0.588800\n",
      "Epoch 25----Testing Acc:: 0.599200\n",
      "Epoch 26----Testing Acc:: 0.611200\n",
      "Epoch 27----Testing Acc:: 0.621000\n",
      "Epoch 28----Testing Acc:: 0.631900\n",
      "Epoch 29----Testing Acc:: 0.643900\n",
      "Epoch 30----Testing Acc:: 0.653400\n",
      "Epoch 31----Testing Acc:: 0.660900\n",
      "Epoch 32----Testing Acc:: 0.670400\n",
      "Epoch 33----Testing Acc:: 0.678800\n",
      "Epoch 34----Testing Acc:: 0.686000\n",
      "Epoch 35----Testing Acc:: 0.690800\n",
      "Epoch 36----Testing Acc:: 0.695300\n",
      "Epoch 37----Testing Acc:: 0.700400\n",
      "Epoch 38----Testing Acc:: 0.706400\n",
      "Epoch 39----Testing Acc:: 0.708800\n",
      "Epoch 40----Testing Acc:: 0.711800\n",
      "Epoch 41----Testing Acc:: 0.715300\n",
      "Epoch 42----Testing Acc:: 0.716900\n",
      "Epoch 43----Testing Acc:: 0.718700\n",
      "Epoch 44----Testing Acc:: 0.720500\n",
      "Epoch 45----Testing Acc:: 0.722200\n",
      "Epoch 46----Testing Acc:: 0.724700\n",
      "Epoch 47----Testing Acc:: 0.725900\n",
      "Epoch 48----Testing Acc:: 0.726200\n",
      "Epoch 49----Testing Acc:: 0.727300\n",
      "Epoch 50----Testing Acc:: 0.728700\n"
     ]
    }
   ],
   "source": [
    "loss_fn = nn.CrossEntropyLoss()\n",
    "optimizer = torch.optim.SGD(model.parameters(), lr=1e-3)\n",
    "\n",
    "epochs = 50\n",
    "for t in range(epochs):\n",
    "    avgTrainingLoss = train(trainloader, model, loss_fn, optimizer)\n",
    "    avgTestingLoss,avgTestingAcc = test(testloader, model, loss_fn)\n",
    "    print(f'Epoch {t+1}----Testing Acc:: {avgTestingAcc:>7f}') "
   ]
  },
  {
   "cell_type": "code",
   "execution_count": 9,
   "id": "c382a73c-c3d8-4c93-8343-5355d3a242ef",
   "metadata": {},
   "outputs": [
    {
     "name": "stdout",
     "output_type": "stream",
     "text": [
      "tensor([7, 4, 1, 7, 7, 9, 0, 4, 0, 0], device='cuda:0')\n",
      "tensor([7, 4, 3, 7, 7, 9, 3, 4, 3, 3])\n"
     ]
    }
   ],
   "source": [
    "## Use Model\n",
    "\n",
    "images, labels = next(iter(trainloader))\n",
    "X= images[:10].to(device)\n",
    "pred = model(X)\n",
    "\n",
    "print(pred.argmax(1))\n",
    "print(labels[:10])"
   ]
  },
  {
   "cell_type": "code",
   "execution_count": null,
   "id": "7aa9c8a7-aa4b-422a-8d9b-040ca402e68e",
   "metadata": {},
   "outputs": [],
   "source": []
  },
  {
   "cell_type": "markdown",
   "id": "e78b5822-46a1-40f3-b45b-e215e1ce958a",
   "metadata": {},
   "source": [
    "## SHAP - Explain Model\n",
    "\n",
    "https://shap.readthedocs.io/en/latest/index.html    \n"
   ]
  },
  {
   "cell_type": "code",
   "execution_count": 10,
   "id": "8f863377-2198-4d6e-8ce5-53001d23bf1b",
   "metadata": {
    "scrolled": true
   },
   "outputs": [
    {
     "name": "stderr",
     "output_type": "stream",
     "text": [
      "C:\\Users\\12990\\AppData\\Local\\Programs\\Python\\Python311\\Lib\\site-packages\\shap\\explainers\\_deep\\deep_pytorch.py:243: UserWarning: unrecognized nn.Module: Flatten\n",
      "  warnings.warn(f'unrecognized nn.Module: {module_type}')\n"
     ]
    },
    {
     "data": {
      "image/png": "[encoded data removed]",
      "text/plain": [
       "<Figure size 2000x454.545 with 23 Axes>"
      ]
     },
     "metadata": {},
     "output_type": "display_data"
    }
   ],
   "source": [
    "import shap\n",
    "\n",
    "images, labels = next(iter(trainloader))\n",
    "eX_train = images.to(device)   \n",
    "explainer = shap.DeepExplainer(model, eX_train)\n",
    "\n",
    "\n",
    "images, labels = next(iter(trainloader))\n",
    "eX =  images[:2].to(device)                            #  torch.Size([2, 1, 28, 28])\n",
    "shap_values = explainer.shap_values(eX)                #             (2, 1, 28, 28, 10)    注 classNum=10\n",
    "shap_values = list(np.transpose(shap_values, (4, 0, 2, 3, 1)))  # 10*(2, 28, 28, 1)        注 classNum=10\n",
    "\n",
    "pixel_values= np.swapaxes(np.swapaxes(eX.cpu().detach().numpy(), 1, -1), 1, 2)    # (2, 28, 28, 1)\n",
    "\n",
    "shap.image_plot(shap_values, -pixel_values)"
   ]
  },
  {
   "cell_type": "code",
   "execution_count": null,
   "id": "7a44b391-1065-4919-92b8-0badff4e3c9e",
   "metadata": {},
   "outputs": [],
   "source": []
  },
  {
   "cell_type": "markdown",
   "id": "d7c77428-48b1-44d4-8034-6ddb8216500a",
   "metadata": {},
   "source": [
    "## Save/Load Model\n",
    "\n",
    "https://blog.csdn.net/dss_dssssd/article/details/89409183"
   ]
  },
  {
   "cell_type": "code",
   "execution_count": 11,
   "id": "638b81c3-3421-4856-9e63-d7cfe2b4b19d",
   "metadata": {},
   "outputs": [],
   "source": [
    "torch.save(model.state_dict(), 'Net.h5')"
   ]
  },
  {
   "cell_type": "code",
   "execution_count": 12,
   "id": "f12f78e2-fc74-4148-969e-2d835a200cf3",
   "metadata": {},
   "outputs": [
    {
     "data": {
      "text/plain": [
       "<All keys matched successfully>"
      ]
     },
     "execution_count": 12,
     "metadata": {},
     "output_type": "execute_result"
    }
   ],
   "source": [
    "new_model = Classifier_Net(10)\n",
    "new_model.load_state_dict(torch.load('Net.h5'),strict=False)"
   ]
  },
  {
   "cell_type": "code",
   "execution_count": null,
   "id": "1a3fb3af-9a7c-41a3-aca4-34722ad0dc5e",
   "metadata": {},
   "outputs": [],
   "source": []
  },
  {
   "cell_type": "markdown",
   "id": "17c62d49-6c15-47ce-aead-4dabbf7608a9",
   "metadata": {},
   "source": [
    "## 提取部分模型\n",
    "\n",
    "然后：可视化layer（输入某张图片后获得layer的输出），或者固定已训练的层后finetuning新的层\n",
    "\n",
    "https://pytorch.org/vision/stable/feature_extraction.html"
   ]
  },
  {
   "cell_type": "code",
   "execution_count": 13,
   "id": "27d0681e-2135-42d1-9c56-ef46cde626ab",
   "metadata": {},
   "outputs": [
    {
     "data": {
      "text/plain": [
       "torch.Size([10, 6, 24, 24])"
      ]
     },
     "execution_count": 13,
     "metadata": {},
     "output_type": "execute_result"
    }
   ],
   "source": [
    "from torchvision.models.feature_extraction import create_feature_extractor\n",
    "\n",
    "sub_model = create_feature_extractor(model.CovBlock,{'0':'CovBlock_0'})  ## \"return_nodes\":\"newPrefix\", \"\":\"\", \"\":\"\"\n",
    "sub_out = sub_model(X)\n",
    "\n",
    "sub_out['CovBlock_0'].shape"
   ]
  },
  {
   "cell_type": "code",
   "execution_count": 14,
   "id": "f48238eb-6e86-4f0d-950a-3ce8dc36cd2e",
   "metadata": {},
   "outputs": [
    {
     "data": {
      "text/plain": [
       "Sequential(\n",
       "  (0): Conv2d(1, 6, kernel_size=(5, 5), stride=(1, 1))\n",
       ")"
      ]
     },
     "execution_count": 14,
     "metadata": {},
     "output_type": "execute_result"
    }
   ],
   "source": [
    "sub_model"
   ]
  },
  {
   "cell_type": "code",
   "execution_count": null,
   "id": "859daa6f-297d-442d-a726-8fb3fb557df6",
   "metadata": {},
   "outputs": [],
   "source": []
  },
  {
   "cell_type": "markdown",
   "id": "9b0ddf0e-dbf6-407e-be83-7026ff69341a",
   "metadata": {},
   "source": [
    "## Finetune\n",
    "\n",
    "注：Torch 提供一些预训练的网络：\n",
    "```\n",
    "model = torchvision.models.resnet18(pretrained=True)\n",
    "```\n",
    "\n"
   ]
  },
  {
   "cell_type": "code",
   "execution_count": 15,
   "id": "50e5c9ec-e5d5-4869-90ba-000e8772944c",
   "metadata": {},
   "outputs": [],
   "source": [
    "## 1. 原模型所有参数设定为不可训练\n",
    "for param in model.parameters():\n",
    "    param.requires_grad = False"
   ]
  },
  {
   "cell_type": "code",
   "execution_count": 16,
   "id": "719fa8e6-7afc-4ba4-9188-e2a03276f87c",
   "metadata": {},
   "outputs": [
    {
     "data": {
      "text/plain": [
       "Sequential(\n",
       "  (0): Conv2d(1, 6, kernel_size=(5, 5), stride=(1, 1))\n",
       "  (1): MaxPool2d(kernel_size=(2, 2), stride=(2, 2), padding=0, dilation=1, ceil_mode=False)\n",
       "  (2): Conv2d(6, 16, kernel_size=(5, 5), stride=(1, 1))\n",
       "  (3): Flatten(start_dim=1, end_dim=-1)\n",
       "  (4): Linear(in_features=1024, out_features=128, bias=True)\n",
       "  (5): ReLU()\n",
       "  (6): Linear(in_features=128, out_features=10, bias=True)\n",
       "  (7): ReLU()\n",
       ")"
      ]
     },
     "execution_count": 16,
     "metadata": {},
     "output_type": "execute_result"
    }
   ],
   "source": [
    "model.CovBlock"
   ]
  },
  {
   "cell_type": "code",
   "execution_count": 17,
   "id": "80badac9-f881-4cd8-8a75-8f77d7bc936e",
   "metadata": {},
   "outputs": [
    {
     "data": {
      "text/plain": [
       "Classifier_Net(\n",
       "  (CovBlock): Sequential(\n",
       "    (0): Conv2d(1, 6, kernel_size=(5, 5), stride=(1, 1))\n",
       "    (1): MaxPool2d(kernel_size=(2, 2), stride=(2, 2), padding=0, dilation=1, ceil_mode=False)\n",
       "    (2): Conv2d(6, 16, kernel_size=(5, 5), stride=(1, 1))\n",
       "    (3): Flatten(start_dim=1, end_dim=-1)\n",
       "    (4): Linear(in_features=1024, out_features=128, bias=True)\n",
       "    (5): ReLU()\n",
       "    (6): Linear(in_features=128, out_features=2, bias=True)\n",
       "    (7): ReLU()\n",
       "  )\n",
       ")"
      ]
     },
     "execution_count": 17,
     "metadata": {},
     "output_type": "execute_result"
    }
   ],
   "source": [
    "## 2.替换层6；也可以提取层：model.CovBlock[:3]\n",
    "in_f = model.CovBlock[6].in_features\n",
    "model.CovBlock[6] = nn.Linear(in_f, 2)\n",
    "model"
   ]
  },
  {
   "cell_type": "code",
   "execution_count": 18,
   "id": "4cdf79bd-e03d-4a7d-b377-85fbb6fe15a4",
   "metadata": {},
   "outputs": [],
   "source": [
    "## 3. 训练时只向optimizer传输需要训练层的参数\n",
    "model.to(device)\n",
    "optimizer = torch.optim.SGD(model.CovBlock[6].parameters(), lr=1e-3)"
   ]
  },
  {
   "cell_type": "code",
   "execution_count": null,
   "id": "1fb97d1f-bcf9-4a0d-afff-d8ae918f4628",
   "metadata": {},
   "outputs": [],
   "source": []
  },
  {
   "cell_type": "code",
   "execution_count": null,
   "id": "e6266120-c49d-46c7-b83a-a5e853eaf28c",
   "metadata": {},
   "outputs": [],
   "source": []
  }
 ],
 "metadata": {
  "kernelspec": {
   "display_name": "Python 3 (ipykernel)",
   "language": "python",
   "name": "python3"
  },
  "language_info": {
   "codemirror_mode": {
    "name": "ipython",
    "version": 3
   },
   "file_extension": ".py",
   "mimetype": "text/x-python",
   "name": "python",
   "nbconvert_exporter": "python",
   "pygments_lexer": "ipython3",
   "version": "3.11.9"
  }
 },
 "nbformat": 4,
 "nbformat_minor": 5
}
