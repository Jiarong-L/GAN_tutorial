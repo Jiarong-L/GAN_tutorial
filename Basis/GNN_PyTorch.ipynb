{
 "cells": [
  {
   "cell_type": "code",
   "execution_count": 1,
   "id": "8302e4b5-3ffb-4975-82e2-2f602f757082",
   "metadata": {},
   "outputs": [
    {
     "name": "stdout",
     "output_type": "stream",
     "text": [
      "Using cpu device\n"
     ]
    }
   ],
   "source": [
    "import torch\n",
    "import torch.nn as nn\n",
    "import torch.nn.functional as F\n",
    "import torch_geometric\n",
    "import torch_geometric.nn as gnn\n",
    "\n",
    "import matplotlib.pyplot as plt\n",
    "import seaborn as sns\n",
    "import numpy as np\n",
    "import pandas as pd\n",
    "import random\n",
    "\n",
    "device = (\n",
    "    \"cuda\"\n",
    "    if torch.cuda.is_available()\n",
    "    else \"mps\"\n",
    "    if torch.backends.mps.is_available()\n",
    "    else \"cpu\"\n",
    ")\n",
    "print(f\"Using {device} device\")\n",
    "np.random.seed(1)"
   ]
  },
  {
   "cell_type": "markdown",
   "id": "561bbfb8-72e0-4a23-8256-4b45927988b9",
   "metadata": {},
   "source": [
    "## Input Format\n",
    "\n",
    "Neighbor Sampling: [torch_geometric.loader.NeighborLoader](https://pytorch-geometric.readthedocs.io/en/latest/tutorial/neighbor_loader.html)\n",
    "\n",
    "HeteroData: [torch_geometric.data.HeteroData](https://pytorch-geometric.readthedocs.io/en/latest/generated/torch_geometric.data.HeteroData.html)"
   ]
  },
  {
   "cell_type": "code",
   "execution_count": 2,
   "id": "67bf8834-ba70-44e7-bd3c-838e2028a3fa",
   "metadata": {},
   "outputs": [
    {
     "data": {
      "text/plain": [
       "Data(x=[5, 7], edge_index=[2, 5], y=[5], train_mask=[5])"
      ]
     },
     "execution_count": 2,
     "metadata": {},
     "output_type": "execute_result"
    }
   ],
   "source": [
    "from torch_geometric.data import Data    ## The input form is not adj_Mtx, since its too costly for large graph\n",
    "\n",
    "edge_index = torch.Tensor([         ## edge pairs: from--to\n",
    "    [0,  0,  1,  1,  2],\n",
    "    [1,  5,  0,  2,  1]\n",
    "])\n",
    "\n",
    "x = torch.Tensor([                   ## 5 node embedding(dim=7)\n",
    "    [1., 0., 0., 0., 0., 0., 0.],\n",
    "    [1., 0., 0., 0., 0., 0., 0.],\n",
    "    [1., 0., 0., 0., 0., 0., 0.],\n",
    "    [1., 0., 0., 0., 0., 0., 0.],\n",
    "    [1., 0., 0., 0., 0., 0., 0.],\n",
    "])\n",
    "\n",
    "y = torch.Tensor([1,2,3,4,5])        ## node labels\n",
    "\n",
    "train_mask = [True, True, True, True, False]   ## use part of the graph when training?\n",
    "\n",
    "Data(x=x, edge_index=edge_index, y = y, train_mask = train_mask)"
   ]
  },
  {
   "cell_type": "code",
   "execution_count": null,
   "id": "39d37a2c-bfc5-493e-a40e-fce062acd1b6",
   "metadata": {},
   "outputs": [],
   "source": [
    "from torch_geometric.loader import NeighborLoader\n",
    "\n",
    "x = torch.randn(8, 32)          # Node features  [num_nodes, num_features]\n",
    "y = torch.randint(0, 4, (8, ))  # Node labels   [num_nodes]\n",
    "\n",
    "edge_index = torch.tensor([                       #   0  1\n",
    "    [2, 3, 3, 4, 5, 6, 7],                        #  / \\/ \\\n",
    "    [0, 0, 1, 1, 2, 3, 4]],                       # 2  3  4\n",
    ")                                                 # |  |  |\n",
    "data = Data(x=x, y=y, edge_index=edge_index)      # 5  6  7\n",
    "\n",
    "loader = NeighborLoader(              ## extract subgraph from the full graph: k-hoop neighours of some nodes\n",
    "    data,\n",
    "    input_nodes=torch.tensor([0]),    ## nodes to be sampled\n",
    "    num_neighbors=[1,1],              ## 1-hoop: 1 neighours, 2-hoop: 1 neighours\n",
    "    batch_size=1,                     ## how many input_nodes to be taken in one batch\n",
    "    replace=False,\n",
    "    shuffle=False)\n",
    "\n",
    "batch = next(iter(loader))\n",
    "\n",
    "batch.n_id                    ##    [0, 2, 5]     original id: node + k-hoop nodes selected\n",
    "batch.edge_index              ## [[1, 2],[0, 1]]  index based on n_id above (subgraph)\n",
    "batch.n_id[batch.edge_index]  ## [[2, 5],[0, 2]]  index based on original id (full graph)"
   ]
  },
  {
   "cell_type": "code",
   "execution_count": null,
   "id": "ea399e06-1e78-49e9-bd96-37d65d207876",
   "metadata": {},
   "outputs": [],
   "source": []
  },
  {
   "cell_type": "markdown",
   "id": "5dc9b94c-6849-4b79-9293-b22a261a5282",
   "metadata": {},
   "source": [
    "## GNN Trials\n",
    "\n",
    "Tutorial: https://uvadlc-notebooks.readthedocs.io/en/latest/tutorial_notebooks/tutorial7/GNN_overview.html\n",
    "\n",
    "```\n",
    "Aggr(Neighbour_info) --->  NN ---> Node Representation ---> other Tasks\n",
    "\n",
    "```"
   ]
  },
  {
   "cell_type": "code",
   "execution_count": 3,
   "id": "b629f56b-a77b-4beb-b202-94b370c033f8",
   "metadata": {},
   "outputs": [],
   "source": [
    "gnn_layer_by_name = {\n",
    "    \"GCN\": gnn.GCNConv,\n",
    "    \"GAT\": gnn.GATConv,\n",
    "    \"GraphConv\": gnn.GraphConv\n",
    "}           "
   ]
  },
  {
   "cell_type": "code",
   "execution_count": null,
   "id": "4f62f411-9bd7-4842-8a8f-5c2184ec0182",
   "metadata": {},
   "outputs": [],
   "source": []
  },
  {
   "cell_type": "markdown",
   "id": "edda7af4-bac3-44dd-820f-cee8ee7efeb3",
   "metadata": {},
   "source": [
    "### Node Level  (Supervised Learning)\n",
    "\n",
    "To predict the label of each node in a single graph\n",
    "\n",
    "```\n",
    "node_embeddings(Original)  ----[GNN Layers]----> node_embeddings(Class)\n",
    "\n",
    "```\n",
    "\n",
    "input:: node_embeddings, node_labels, adj_Mtx"
   ]
  },
  {
   "cell_type": "code",
   "execution_count": 4,
   "id": "0185e2e2-6112-4d98-9cfe-8a2bedd1e6d9",
   "metadata": {},
   "outputs": [
    {
     "data": {
      "text/plain": [
       "(Data(x=[2708, 1433], edge_index=[2, 10556], y=[2708], train_mask=[2708], val_mask=[2708], test_mask=[2708]),\n",
       " tensor(0),\n",
       " tensor(6))"
      ]
     },
     "execution_count": 4,
     "metadata": {},
     "output_type": "execute_result"
    }
   ],
   "source": [
    "data = torch_geometric.datasets.Planetoid(root=r'L:\\Datasets', name=\"Cora\")[0]  ## A single graph with 2780 nodes, mask = [True, True, False, ...]\n",
    "data, min(data.y),max(data.y)                                                   ##    node class y = 7        if mask: x[mask], data.y[mask]"
   ]
  },
  {
   "cell_type": "code",
   "execution_count": 5,
   "id": "1f971891-ba2b-44cd-8509-77dc9bb2eff0",
   "metadata": {},
   "outputs": [
    {
     "name": "stdout",
     "output_type": "stream",
     "text": [
      "Epoch 0 acc:0.17208272218704224  loss:1.94431734085083\n",
      "Epoch 50 acc:0.30206793546676636  loss:1.829414963722229\n",
      "Epoch 100 acc:0.5243722200393677  loss:1.6869120597839355\n",
      "Epoch 150 acc:0.7119645476341248  loss:1.551342248916626\n"
     ]
    }
   ],
   "source": [
    "class NodeGNN(nn.Module):\n",
    "    def __init__(self, c_in, c_out, activate = True):    ## node_embd_dim  -->  node_class\n",
    "        super().__init__()\n",
    "        self.activate = activate\n",
    "        self.layers = nn.ModuleList([\n",
    "            gnn.GCNConv(c_in,32),\n",
    "            nn.ReLU(inplace=True),\n",
    "            nn.Dropout(0.1),\n",
    "\n",
    "            gnn.GCNConv(32,c_out),\n",
    "            # nn.Sigmoid()\n",
    "        ])\n",
    "\n",
    "    def forward(self, x, edge_index):\n",
    "        for layer in self.layers:\n",
    "            if isinstance(layer, gnn.MessagePassing):\n",
    "                x = layer(x, edge_index)\n",
    "            else:\n",
    "                x = layer(x)\n",
    "        if self.activate:\n",
    "            x = F.softmax(x, dim=1)\n",
    "        return x\n",
    "\n",
    "\n",
    "def train_step(model, lossfn, optimizer, data):           ## data is one graph, i.e. batch=1\n",
    "    model.train()\n",
    "    optimizer.zero_grad()\n",
    "    x, edge_index, y = data.x.to(device), data.edge_index.to(device), data.y.to(device)   \n",
    "    pred = model(x, edge_index)          \n",
    "    loss = lossfn(pred,y)\n",
    "    loss.backward()\n",
    "    optimizer.step()\n",
    "    acc = (pred.argmax(dim=-1) == y).sum().float() / x.size()[0]\n",
    "    return loss.item(), acc.item()\n",
    "\n",
    "\n",
    "\n",
    "node_model = NodeGNN(1433,7).to(device)\n",
    "node_lossfn = nn.CrossEntropyLoss()\n",
    "node_optimizer = torch.optim.SGD(node_model.parameters(), lr=0.1, momentum=0.9, weight_decay=2e-3)\n",
    "\n",
    "for epoch in range(200):\n",
    "    loss, acc = train_step(node_model, node_lossfn, node_optimizer, data)\n",
    "    if epoch % 50 == 0:\n",
    "        print(\"Epoch {} acc:{}  loss:{}\".format(epoch,acc,loss))"
   ]
  },
  {
   "cell_type": "code",
   "execution_count": null,
   "id": "05633e39-c7c1-42f2-8a94-216cf0d7411f",
   "metadata": {},
   "outputs": [],
   "source": []
  },
  {
   "cell_type": "markdown",
   "id": "7a68a1b1-bba4-4c71-8205-750fac03cc92",
   "metadata": {},
   "source": [
    "### Graph Level(Supervised Learning)\n",
    "\n",
    "\n",
    "```\n",
    "node_embeddings(Original)  ----[GNN Layers]----> node_embeddings ----[Aggr]----> graph_embedding ----[Classifier]----> graph_label\n",
    "\n",
    "```\n",
    "input:: node_embeddings, adj_Mtx, graph_labels\n",
    "\n",
    "Aggr see: https://pytorch-geometric.readthedocs.io/en/latest/_modules/torch_geometric/nn/pool.html"
   ]
  },
  {
   "cell_type": "code",
   "execution_count": 6,
   "id": "62c744ed-f94f-4e3f-8b4c-21f6f9f33fa2",
   "metadata": {},
   "outputs": [
    {
     "data": {
      "text/plain": [
       "(DataBatch(edge_index=[2, 2544], x=[1154, 7], edge_attr=[2544, 4], y=[64], batch=[1154], ptr=[65]),\n",
       " tensor([ 0,  0,  0,  ..., 63, 63, 63]),\n",
       " {0, 1})"
      ]
     },
     "execution_count": 6,
     "metadata": {},
     "output_type": "execute_result"
    }
   ],
   "source": [
    "## How does batch data look like? torch_geometric.loader.DataLoader() will concat several Graph's adjacency matrix into one.\n",
    "dataset = torch_geometric.datasets.TUDataset(root=r'L:\\Datasets', name=\"MUTAG\")   ## A set of small molecules\n",
    "train_loader = torch_geometric.loader.DataLoader(dataset, batch_size=64, shuffle=True)\n",
    "\n",
    "for batch_data in train_loader:\n",
    "    break\n",
    "batch_data, batch_data.batch  ,set(dataset.y.numpy())"
   ]
  },
  {
   "cell_type": "code",
   "execution_count": 7,
   "id": "ed5f0cc2-40f1-4adf-9e53-fc0334e1475e",
   "metadata": {},
   "outputs": [
    {
     "name": "stdout",
     "output_type": "stream",
     "text": [
      "Epoch 0's final batch -- acc:0.6666666865348816  loss:0.6265289783477783\n",
      "Epoch 50's final batch -- acc:0.7166666388511658  loss:0.49427902698516846\n",
      "Epoch 100's final batch -- acc:0.8333333134651184  loss:0.42077288031578064\n",
      "Epoch 150's final batch -- acc:0.7833333611488342  loss:0.4838566482067108\n"
     ]
    }
   ],
   "source": [
    "class GraphGNN(nn.Module):\n",
    "    def __init__(self, c_in, c_out):   \n",
    "        super().__init__()\n",
    "        self.nodeGNN = NodeGNN(c_in, 100, activate = False)\n",
    "        self.binaryClassifier = nn.Sequential(\n",
    "            nn.Dropout(0.1),\n",
    "            nn.Linear(100, c_out),\n",
    "            nn.Sigmoid()\n",
    "        )\n",
    "\n",
    "    def forward(self, x, edge_index, batch_index):\n",
    "        x = self.nodeGNN(x, edge_index)\n",
    "        x = gnn.global_mean_pool(x, batch_index)   ## Aggr: mean\n",
    "        x = self.binaryClassifier(x)\n",
    "        return x.squeeze(-1)\n",
    "\n",
    "\n",
    "graph_model = GraphGNN(7,1).to(device)\n",
    "graph_lossfn = nn.BCELoss()\n",
    "graph_optimizer = torch.optim.AdamW(graph_model.parameters(), lr=1e-2, weight_decay=0.0)\n",
    "\n",
    "\n",
    "def train_step(model, lossfn, optimizer, batch_data):           ## data is one graph, i.e. batch=1\n",
    "    model.train()\n",
    "    optimizer.zero_grad()\n",
    "    x, edge_index, batch_index, y = batch_data.x.to(device), batch_data.edge_index.to(device), batch_data.batch.to(device), batch_data.y.to(device)\n",
    "    pred = model(x, edge_index, batch_index)     \n",
    "    loss = lossfn(pred,y.type(torch.float))\n",
    "    loss.backward()\n",
    "    optimizer.step()\n",
    "    acc = (pred.ge(1/2) == y).sum().float() / (batch_data.batch[-1].item() + 1)  ## /current batch size\n",
    "    return loss.item(), acc.item()\n",
    "\n",
    "\n",
    "for epoch in range(200):\n",
    "    for batch_data in train_loader:\n",
    "        loss, acc = train_step(graph_model, graph_lossfn, graph_optimizer, batch_data)\n",
    "    if epoch % 50 == 0:\n",
    "        print(\"Epoch {}'s final batch -- acc:{}  loss:{}\".format(epoch,acc,loss))\n"
   ]
  },
  {
   "cell_type": "code",
   "execution_count": null,
   "id": "a2ac7dda-e6dd-4cbb-a435-42312d8a57c2",
   "metadata": {},
   "outputs": [],
   "source": []
  },
  {
   "cell_type": "markdown",
   "id": "6a818444-5466-4bae-b6c3-19a6841f1a15",
   "metadata": {},
   "source": [
    "### Edge Level\n",
    "\n",
    "Predict possible new edges (assume there are missing edges)\n",
    "\n",
    "Example2: https://github.com/pyg-team/pytorch_geometric/blob/master/examples/link_pred.py\n",
    "\n",
    "Idea: if 2 nodes' representation are similar, probably there will be a link"
   ]
  },
  {
   "cell_type": "code",
   "execution_count": null,
   "id": "2e71cb80-2995-4016-b715-6fa9949d88fd",
   "metadata": {},
   "outputs": [],
   "source": []
  },
  {
   "cell_type": "code",
   "execution_count": null,
   "id": "1bd0fcac-45ea-4aef-9d42-48eee5fc7598",
   "metadata": {},
   "outputs": [],
   "source": []
  }
 ],
 "metadata": {
  "kernelspec": {
   "display_name": "Python 3 (ipykernel)",
   "language": "python",
   "name": "python3"
  },
  "language_info": {
   "codemirror_mode": {
    "name": "ipython",
    "version": 3
   },
   "file_extension": ".py",
   "mimetype": "text/x-python",
   "name": "python",
   "nbconvert_exporter": "python",
   "pygments_lexer": "ipython3",
   "version": "3.12.1"
  }
 },
 "nbformat": 4,
 "nbformat_minor": 5
}
