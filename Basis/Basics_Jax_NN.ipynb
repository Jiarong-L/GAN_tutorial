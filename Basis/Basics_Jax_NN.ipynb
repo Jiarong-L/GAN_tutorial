{
 "cells": [
  {
   "cell_type": "markdown",
   "id": "7aadf797",
   "metadata": {},
   "source": [
    "## 安装\n",
    "\n",
    "```bash\n",
    "pip install -U jax\n",
    "pip install -U flax\n",
    "# pip install tensorflow tensorflow_datasets\n",
    "pip install numpy optax dm-haiku numpyro numba tensorboardX \n",
    "pip install tqdm setproctitle dill\n",
    "```\n",
    "\n",
    "\n",
    "Docker中使用Jax，需要查看 [hardware_utils.py](https://github.com/jax-ml/jax/blob/main/jax/_src/hardware_utils.py) 是否包含了 \n",
    "```py\n",
    "_NVIDIA_GPU_DEVICES = [\n",
    "    '/dev/nvidia0',\n",
    "    '/dev/nvidiactl',  # Docker/Kubernetes\n",
    "    '/dev/dxg',  # WSL2\n",
    "]\n",
    "```\n",
    "\n",
    "\n",
    "本例中，[Optax](https://optax.readthedocs.io/en/latest/index.html)提供优化器，[dm-haiku](https://dm-haiku.readthedocs.io/en/latest/)提供NN（也可以使用[Flax](https://flax.readthedocs.io/en/latest/#basic-usage)），tqdm提供进度条\n",
    "\n"
   ]
  },
  {
   "cell_type": "code",
   "execution_count": 1,
   "id": "4b5adf10",
   "metadata": {},
   "outputs": [],
   "source": [
    "import jax\n",
    "import jax.numpy as jnp\n",
    "import haiku as hk\n",
    "import optax\n",
    "import tensorflow as tf\n",
    "import matplotlib.pyplot as plt\n",
    "# %matplotlib inline\n",
    "\n",
    "\n",
    "key = jax.random.PRNGKey(0)   \n",
    "seedI, seedG = jax.random.split(key,2)"
   ]
  },
  {
   "cell_type": "markdown",
   "id": "997f87a8",
   "metadata": {},
   "source": [
    "## Load Dataset\n",
    "copy from \"cGAN_TF.ipynb\""
   ]
  },
  {
   "cell_type": "code",
   "execution_count": 2,
   "id": "82be8282",
   "metadata": {},
   "outputs": [],
   "source": [
    "(train_imgs,train_labels),(test_imgs,test_labels) = tf.keras.datasets.mnist.load_data(path=\"L:/Datasets/mnist.npz\")\n",
    "\n",
    "BufferSize = train_imgs.shape[0]\n",
    "BatchSize = 128\n",
    "\n",
    "train_imgs = train_imgs/127.5-1\n",
    "train_imgs = tf.expand_dims(train_imgs,-1)\n",
    "# train_imgs = tf.cast(train_imgs, tf.float32)\n",
    "# train_labels = tf.cast(train_labels, tf.float32)\n",
    "trainloader = tf.data.Dataset.from_tensor_slices((train_imgs,train_labels)).shuffle(BufferSize).batch(BatchSize)"
   ]
  },
  {
   "cell_type": "code",
   "execution_count": 3,
   "id": "973067e4",
   "metadata": {},
   "outputs": [
    {
     "data": {
      "text/plain": [
       "TensorShape([60000, 28, 28, 1])"
      ]
     },
     "execution_count": 3,
     "metadata": {},
     "output_type": "execute_result"
    }
   ],
   "source": [
    "train_imgs.shape"
   ]
  },
  {
   "cell_type": "code",
   "execution_count": 4,
   "id": "0b7c4782",
   "metadata": {},
   "outputs": [],
   "source": [
    "## View Img\n",
    "def showBatchImg(images,labels,maxNum=5):\n",
    "    fig, axes = plt.subplots(1, maxNum)\n",
    "    for i in range(maxNum):\n",
    "        axes[i].imshow(images[i].squeeze())    ## axes[i].imshow(images[i].numpy().squeeze())\n",
    "        axes[i].set_title(labels[i].item())\n",
    "        axes[i].axis('off')\n",
    "    plt.show()\n",
    "\n",
    "# showBatchImg(train_imgs, train_labels, 10)     ## showBatchImg(train_imgs, train_labels.cpu().numpy(), 10)"
   ]
  },
  {
   "cell_type": "markdown",
   "id": "5b77164e",
   "metadata": {},
   "source": [
    "## Model -- Haiku\n",
    "\n",
    "similiar as Classifier_Net in 'Basis_PyTorch.ipynb'"
   ]
  },
  {
   "cell_type": "code",
   "execution_count": 5,
   "id": "47f7f271",
   "metadata": {},
   "outputs": [],
   "source": [
    "class Classifier_Haiku_Net(hk.Module):\n",
    "    def __call__(self, x):\n",
    "        x = hk.Conv2D(output_channels=32, kernel_shape=3, stride=1, padding='SAME')(x)   \n",
    "        x = jax.nn.relu(x)\n",
    "        x = hk.MaxPool(window_shape=(2,2), strides=(2,2), padding='VALID')(x)\n",
    "\n",
    "        x = hk.Conv2D(output_channels=64, kernel_shape=3, stride=1, padding='SAME')(x)   \n",
    "        x = jax.nn.relu(x)\n",
    "        x = hk.MaxPool(window_shape=(2,2), strides=(2,2), padding='VALID')(x)\n",
    "\n",
    "        x = hk.Flatten()(x)\n",
    "        x = hk.Linear(128)(x)\n",
    "        x = jax.nn.relu(x)\n",
    "        x = hk.Linear(10)(x)     ## out put logits here\n",
    "        return x\n",
    "\n",
    "\n",
    "\n",
    "def forwardH(x):\n",
    "    netH = Classifier_Haiku_Net()\n",
    "    return netH(x)\n",
    "\n",
    "\n",
    "def loss_fn(params, seed, x, y):\n",
    "    logits = modelH.apply(params, seed, x)             ## get model outputs\n",
    "    onehot_y = jax.nn.one_hot(y, num_classes=10)\n",
    "    loss = optax.softmax_cross_entropy(logits, onehot_y).mean()\n",
    "    return loss\n",
    "\n",
    "\n",
    "def cal_GradH(params, seed, x, y):\n",
    "    loss, grad = jax.value_and_grad(loss_fn)(params, seed, x, y)\n",
    "    return loss, grad\n",
    "\n",
    "\n",
    "def updateH(optimizer, opt_state, params, grad):      ## return updated params\n",
    "    updates, opt_state = optimizer.update(grad, opt_state, params)\n",
    "    new_params = optax.apply_updates(params, updates)\n",
    "    return new_params, opt_state\n",
    "\n",
    "\n",
    "\n",
    "\n",
    "##   1. 实例化前向过程: transform func to Haiku block/model\n",
    "modelH = hk.transform(forwardH)\n",
    "\n",
    "##   2. init the model params:  params.keys() to see layer names\n",
    "input_size = jnp.ones([BatchSize, 28, 28, 1])    ## train_imgs.shape\n",
    "paramsH = modelH.init(seedI, input_size)         ## initial model params  \n",
    "\n",
    "##   3. init the optimizer state (for adam)\n",
    "optimizerH = optax.adam(learning_rate=1e-3)\n",
    "opt_stateH = optimizerH.init(paramsH)\n",
    "\n",
    "\n",
    "##   4. loss_fn\n",
    "##   5. cal_GradH\n",
    "##   6. updateH\n",
    "\n",
    "\n",
    "\n",
    "\n",
    "## Training the model\n",
    "for epoch in range(10):\n",
    "    for x, y in trainloader.as_numpy_iterator():    ## otherwise x.numpy()\n",
    "        x, y = jax.device_put(x), jax.device_put(y)\n",
    "        _, grad = cal_GradH(paramsH, seedG, x, y)\n",
    "        paramsH, opt_stateH = updateH(optimizerH, opt_stateH, paramsH, grad)\n"
   ]
  },
  {
   "cell_type": "code",
   "execution_count": 6,
   "id": "08acc993",
   "metadata": {},
   "outputs": [
    {
     "data": {
      "image/png": "[encoded data removed]",
      "text/plain": [
       "<Figure size 640x480 with 10 Axes>"
      ]
     },
     "metadata": {},
     "output_type": "display_data"
    }
   ],
   "source": [
    "## Use the model\n",
    "for x, y in trainloader.as_numpy_iterator(): \n",
    "    break\n",
    "\n",
    "logits = modelH.apply(paramsH, seedG, x)\n",
    "pred = jnp.argmax(logits, axis=1)\n",
    "showBatchImg(x, pred, 10) "
   ]
  },
  {
   "cell_type": "code",
   "execution_count": null,
   "id": "4b20c807",
   "metadata": {},
   "outputs": [],
   "source": []
  }
 ],
 "metadata": {
  "kernelspec": {
   "display_name": "Python 3",
   "language": "python",
   "name": "python3"
  },
  "language_info": {
   "codemirror_mode": {
    "name": "ipython",
    "version": 3
   },
   "file_extension": ".py",
   "mimetype": "text/x-python",
   "name": "python",
   "nbconvert_exporter": "python",
   "pygments_lexer": "ipython3",
   "version": "3.12.1"
  }
 },
 "nbformat": 4,
 "nbformat_minor": 5
}
