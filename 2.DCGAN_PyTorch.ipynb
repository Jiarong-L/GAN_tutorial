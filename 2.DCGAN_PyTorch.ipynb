{
 "cells": [
  {
   "cell_type": "code",
   "execution_count": 1,
   "id": "c9597bc2-390c-414a-809d-c12deda80685",
   "metadata": {},
   "outputs": [],
   "source": [
    "import torch\n",
    "import torchvision\n",
    "from torch import nn\n",
    "\n",
    "import matplotlib.pyplot as plt\n",
    "import numpy as np"
   ]
  },
  {
   "cell_type": "code",
   "execution_count": 2,
   "id": "14b6f408-6b76-43dd-945b-228d4f555aa4",
   "metadata": {},
   "outputs": [
    {
     "name": "stdout",
     "output_type": "stream",
     "text": [
      "Using cpu device\n"
     ]
    }
   ],
   "source": [
    "device = (\n",
    "    \"cuda\"\n",
    "    if torch.cuda.is_available()\n",
    "    else \"mps\"\n",
    "    if torch.backends.mps.is_available()\n",
    "    else \"cpu\"\n",
    ")\n",
    "print(f\"Using {device} device\")"
   ]
  },
  {
   "cell_type": "code",
   "execution_count": 3,
   "id": "8029b27d-7456-4411-9478-f42996230857",
   "metadata": {},
   "outputs": [],
   "source": [
    "def showBatchImg(images,labels,maxNum=5):\n",
    "    fig, axes = plt.subplots(1, maxNum)\n",
    "    for i in range(min(maxNum,images.shape[0])):\n",
    "        axes[i].imshow(images[i].squeeze())\n",
    "        axes[i].set_title(labels[i].item())\n",
    "        axes[i].axis('off')\n",
    "\n",
    "# images, labels = next(iter(trainloader))\n",
    "# showBatchImg(images, labels, 10)\n",
    "# print(images.shape)"
   ]
  },
  {
   "cell_type": "markdown",
   "id": "f2e50164-e94b-409c-81eb-ec993f7142f3",
   "metadata": {},
   "source": [
    "## Load DataSet"
   ]
  },
  {
   "cell_type": "code",
   "execution_count": 4,
   "id": "67994506-c81f-4b91-8f33-3863138e08e4",
   "metadata": {},
   "outputs": [],
   "source": [
    "## Load DataSet\n",
    "\n",
    "transform = torchvision.transforms.Compose(\n",
    "    [\n",
    "        torchvision.transforms.Resize((28,28)),\n",
    "        torchvision.transforms.ToTensor()\n",
    "     ])\n",
    "\n",
    "batch_size = 1000\n",
    "\n",
    "trainset = torchvision.datasets.MNIST(root='L:/Datasets', train=True, download=True, transform=transform)\n",
    "trainloader = torch.utils.data.DataLoader(trainset, batch_size=batch_size,shuffle=True, num_workers=2)"
   ]
  },
  {
   "cell_type": "code",
   "execution_count": 5,
   "id": "bb3f1274-423b-44d1-8708-f3b8aa67fdc4",
   "metadata": {},
   "outputs": [
    {
     "name": "stdout",
     "output_type": "stream",
     "text": [
      "torch.Size([1000, 1, 28, 28])\n"
     ]
    },
    {
     "data": {
      "image/png": "[encoded data removed]",
      "text/plain": [
       "<Figure size 640x480 with 10 Axes>"
      ]
     },
     "metadata": {},
     "output_type": "display_data"
    }
   ],
   "source": [
    "images, labels = next(iter(trainloader))\n",
    "showBatchImg(images, labels, 10)\n",
    "print(images.shape)"
   ]
  },
  {
   "cell_type": "markdown",
   "id": "153d3521-912c-4e91-bbf4-df1ed4a3e0c7",
   "metadata": {},
   "source": [
    "## DCGAN\n",
    "```\n",
    "Generator:  [noise] ==> Fake_Img  \n",
    "\n",
    "Discriminator:  [Img] ==> Fake/Real\n",
    "\n",
    "Loss: D+G，其中D希望正确区分、即令Fake=0/Real=1，G希望令Fake=1\n",
    "```\n",
    "【感谢Yuan Xiao的debug，不过似乎G还是太弱？？】  \n",
    " https://github.com/pytorch/examples/blob/main/dcgan/main.py 更清晰"
   ]
  },
  {
   "cell_type": "code",
   "execution_count": 6,
   "id": "084ae7a8-319e-4c08-a146-7b8459e83cb0",
   "metadata": {},
   "outputs": [
    {
     "name": "stdout",
     "output_type": "stream",
     "text": [
      "Generator_Net(\n",
      "  (Generator): Sequential(\n",
      "    (0): ConvTranspose2d(64, 32, kernel_size=(6, 6), stride=(2, 2))\n",
      "    (1): BatchNorm2d(32, eps=1e-05, momentum=0.1, affine=True, track_running_stats=True)\n",
      "    (2): ReLU()\n",
      "    (3): ConvTranspose2d(32, 8, kernel_size=(6, 6), stride=(2, 2))\n",
      "    (4): BatchNorm2d(8, eps=1e-05, momentum=0.1, affine=True, track_running_stats=True)\n",
      "    (5): ReLU()\n",
      "    (6): ConvTranspose2d(8, 1, kernel_size=(5, 5), stride=(1, 1))\n",
      "    (7): Sigmoid()\n",
      "  )\n",
      ")\n",
      "Discriminator_Net(\n",
      "  (Discriminator): Sequential(\n",
      "    (0): Conv2d(1, 6, kernel_size=(5, 5), stride=(1, 1))\n",
      "    (1): MaxPool2d(kernel_size=(2, 2), stride=(2, 2), padding=0, dilation=1, ceil_mode=False)\n",
      "    (2): Conv2d(6, 16, kernel_size=(5, 5), stride=(1, 1))\n",
      "    (3): Flatten(start_dim=1, end_dim=-1)\n",
      "    (4): Linear(in_features=1024, out_features=128, bias=True)\n",
      "    (5): LeakyReLU(negative_slope=0.01)\n",
      "    (6): Linear(in_features=128, out_features=1, bias=True)\n",
      "    (7): Sigmoid()\n",
      "  )\n",
      ")\n"
     ]
    }
   ],
   "source": [
    "## Model\n",
    "## noiseShape = (64,3,3)\n",
    "class Generator_Net(nn.Module):\n",
    "    def __init__(self):\n",
    "        super().__init__()\n",
    "        self.Generator = nn.Sequential(           ## B*64*3*3  (B*C *H*W)\n",
    "            ##  in_channel,out_channel,kernel_size\n",
    "            nn.ConvTranspose2d(64,32,6,stride=2),          ## ==> B*32* 10*10      H = (H-1)*strides + kernel_size\n",
    "            nn.BatchNorm2d(32),\n",
    "            nn.ReLU(),\n",
    "            nn.ConvTranspose2d(32,8,(6,6), stride=(2, 2)), ## ==> B*8*  24*24\n",
    "            nn.BatchNorm2d(8),\n",
    "            nn.ReLU(),\n",
    "            nn.ConvTranspose2d(8,1,5,stride=1),            ## ==> B*1*  28*28\n",
    "            nn.Sigmoid()\n",
    "        )\n",
    "    def forward(self,noise):\n",
    "        return self.Generator(noise)\n",
    "\n",
    "class Discriminator_Net(nn.Module):\n",
    "    def __init__(self):\n",
    "        super().__init__()\n",
    "        self.Discriminator = nn.Sequential(\n",
    "            nn.Conv2d(1,6,(5,5)),\n",
    "            nn.MaxPool2d((2,2)),\n",
    "            nn.Conv2d(6,16,(5,5)),\n",
    "            nn.Flatten(),\n",
    "            nn.Linear(16*8*8,128),\n",
    "            nn.LeakyReLU(),\n",
    "            nn.Linear(128,1),\n",
    "            nn.Sigmoid(),\n",
    "        )\n",
    "    def forward(self,x):\n",
    "        return self.Discriminator(x)\n",
    "\n",
    "modelG = Generator_Net().to(device)\n",
    "print(modelG)\n",
    "modelD = Discriminator_Net().to(device)\n",
    "print(modelD)"
   ]
  },
  {
   "cell_type": "code",
   "execution_count": 7,
   "id": "940aee4f-3dfd-4af1-804c-a53cf631230e",
   "metadata": {},
   "outputs": [],
   "source": [
    "optimizerG = torch.optim.Adam(modelG.parameters(), lr=2e-3)\n",
    "optimizerD = torch.optim.Adam(modelD.parameters(), lr=2e-3)\n",
    "\n",
    "def lossGfn(predF):\n",
    "    return nn.BCELoss()(predF,torch.ones_like(predF))\n",
    "\n",
    "def lossDfn(predF,predR):\n",
    "    lossFake = nn.BCELoss()(predF,torch.zeros_like(predF))\n",
    "    lossReal = nn.BCELoss()(predR,torch.ones_like(predR))\n",
    "    return lossFake+lossReal\n",
    "\n",
    "def train(dataloader, modelG, modelD, lossGfn, lossDfn, optimizerG, optimizerD, D_Train=True):\n",
    "    lossSumG = 0\n",
    "    lossSumD = 0\n",
    "    modelG.train()\n",
    "    modelD.train()\n",
    "    for batch, (RealImgs, y) in enumerate(dataloader):\n",
    "        RealImgs = RealImgs.to(device)\n",
    "        # Update discriminator\n",
    "        optimizerD.zero_grad()\n",
    "        noise = torch.randn(batch_size, 64,3,3, device=device)\n",
    "        FakeImgs = modelG(noise)\n",
    "        predF = modelD(FakeImgs.detach())\n",
    "        predR = modelD(RealImgs)\n",
    "        lossD = lossDfn(predF,predR)\n",
    "        lossD.backward(retain_graph=True)\n",
    "        optimizerD.step()\n",
    "        # Update generator\n",
    "        optimizerG.zero_grad()\n",
    "        predF = modelD(FakeImgs)\n",
    "        lossG = lossGfn(predF)\n",
    "        lossG.backward()\n",
    "        optimizerG.step()\n",
    "        ## Collect loss\n",
    "        lossSumG += lossG\n",
    "        lossSumD += lossD\n",
    "    return lossSumG, lossSumD"
   ]
  },
  {
   "cell_type": "code",
   "execution_count": 8,
   "id": "2db03f5d-e533-4499-834a-0db412da5c73",
   "metadata": {},
   "outputs": [
    {
     "name": "stdout",
     "output_type": "stream",
     "text": [
      "Epoch 1----Generator Loss:: 158.909210----Discriminator Loss:: 31.298594\n",
      "Epoch 2----Generator Loss:: 144.577850----Discriminator Loss:: 56.280388\n",
      "Epoch 3----Generator Loss:: 140.091248----Discriminator Loss:: 39.815174\n",
      "Epoch 4----Generator Loss:: 182.664093----Discriminator Loss:: 29.977863\n",
      "Epoch 5----Generator Loss:: 186.016052----Discriminator Loss:: 27.960615\n",
      "Epoch 6----Generator Loss:: 198.548264----Discriminator Loss:: 22.562410\n",
      "Epoch 7----Generator Loss:: 230.158630----Discriminator Loss:: 18.504894\n",
      "Epoch 8----Generator Loss:: 253.332581----Discriminator Loss:: 16.472372\n",
      "Epoch 9----Generator Loss:: 258.370209----Discriminator Loss:: 14.333111\n",
      "Epoch 10----Generator Loss:: 285.147156----Discriminator Loss:: 12.048318\n",
      "Epoch 11----Generator Loss:: 299.491425----Discriminator Loss:: 13.262466\n",
      "Epoch 12----Generator Loss:: 287.943298----Discriminator Loss:: 13.863405\n",
      "Epoch 13----Generator Loss:: 316.571320----Discriminator Loss:: 14.635000\n",
      "Epoch 14----Generator Loss:: 336.174652----Discriminator Loss:: 17.535347\n",
      "Epoch 15----Generator Loss:: 335.729370----Discriminator Loss:: 14.683704\n",
      "Epoch 16----Generator Loss:: 300.019287----Discriminator Loss:: 13.560328\n",
      "Epoch 17----Generator Loss:: 288.774536----Discriminator Loss:: 14.370037\n",
      "Epoch 18----Generator Loss:: 302.881805----Discriminator Loss:: 14.276991\n",
      "Epoch 19----Generator Loss:: 315.848267----Discriminator Loss:: 12.844101\n",
      "Epoch 20----Generator Loss:: 327.912140----Discriminator Loss:: 11.702360\n"
     ]
    }
   ],
   "source": [
    "for epoch in range(20):\n",
    "    lossG,lossD = train(trainloader, modelG, modelD, lossGfn, lossDfn, optimizerG, optimizerD, D_Train=True)\n",
    "    print(f'Epoch {epoch+1}----Generator Loss:: {lossG:>7f}----Discriminator Loss:: {lossD:>7f}')"
   ]
  },
  {
   "cell_type": "code",
   "execution_count": 9,
   "id": "ec443db5-2695-4de4-bfda-77d5f36c2172",
   "metadata": {},
   "outputs": [
    {
     "name": "stdout",
     "output_type": "stream",
     "text": [
      "torch.Size([10, 1, 28, 28])\n"
     ]
    },
    {
     "data": {
      "image/png": "[encoded data removed]",
      "text/plain": [
       "<Figure size 640x480 with 5 Axes>"
      ]
     },
     "metadata": {},
     "output_type": "display_data"
    }
   ],
   "source": [
    "## Use Prediction\n",
    "modelG.eval()\n",
    "noise = torch.randn(10, 64,3,3, device=device)  ## B*noiseShape\n",
    "FakeImgs = modelG(noise)\n",
    "print(FakeImgs.shape)\n",
    "showBatchImg(FakeImgs.detach().cpu(), np.zeros(FakeImgs.shape[0]))"
   ]
  },
  {
   "cell_type": "code",
   "execution_count": null,
   "id": "29961f09-90c4-40c6-a6d6-46db974d75d1",
   "metadata": {},
   "outputs": [],
   "source": []
  },
  {
   "cell_type": "code",
   "execution_count": null,
   "id": "ae3be32c-3bc0-47f2-8516-15a99e5ea409",
   "metadata": {},
   "outputs": [],
   "source": []
  },
  {
   "cell_type": "code",
   "execution_count": null,
   "id": "539254ae-e77f-403d-9f80-283713aa5249",
   "metadata": {},
   "outputs": [],
   "source": []
  }
 ],
 "metadata": {
  "kernelspec": {
   "display_name": "Python 3 (ipykernel)",
   "language": "python",
   "name": "python3"
  },
  "language_info": {
   "codemirror_mode": {
    "name": "ipython",
    "version": 3
   },
   "file_extension": ".py",
   "mimetype": "text/x-python",
   "name": "python",
   "nbconvert_exporter": "python",
   "pygments_lexer": "ipython3",
   "version": "3.12.1"
  }
 },
 "nbformat": 4,
 "nbformat_minor": 5
}
